{
 "cells": [
  {
   "cell_type": "code",
   "execution_count": 1,
   "metadata": {
    "scrolled": true
   },
   "outputs": [
    {
     "data": {
      "application/javascript": [
       "Jupyter.keyboard_manager.command_shortcuts.add_shortcut('cmd-.', {\n",
       "    help : 'sc.cmd(\"s.freeAll\")',\n",
       "    help_index : 'zz',\n",
       "    handler : function (event) {\n",
       "        IPython.notebook.kernel.execute(\"sc.free_all()\")\n",
       "        return true;\n",
       "    }}\n",
       ");"
      ],
      "text/plain": [
       "<IPython.core.display.Javascript object>"
      ]
     },
     "metadata": {},
     "output_type": "display_data"
    }
   ],
   "source": [
    "from sc3nb import TimedQueue\n",
    "import time"
   ]
  },
  {
   "cell_type": "code",
   "execution_count": 14,
   "metadata": {},
   "outputs": [
    {
     "name": "stdout",
     "output_type": "stream",
     "text": [
      "time is 0.0009417533874511719\n",
      "0\n",
      "1\n",
      "2\n",
      "3\n",
      "4\n",
      "long run complete:4.6\n",
      "long run complete:5.699999999999999\n",
      "long run complete:6.8\n",
      "long run complete:7.9\n",
      "long run complete:9.0\n",
      "long run complete:9\n"
     ]
    }
   ],
   "source": [
    "t0 = time.time()\n",
    "\n",
    "queue = TimedQueue()\n",
    "\n",
    "def long_run(x):\n",
    "    start = time.time()\n",
    "    while time.time() - start < x:\n",
    "        time.sleep(0.01)\n",
    "        pass\n",
    "    print('long run complete:'+ str(x))\n",
    "    \n",
    "t0 = time.time()\n",
    "\n",
    "for i in range(10):\n",
    "    queue.put(t0 + i, print, args=(i))\n",
    "    queue.put(t0 + i, long_run, args=(9-i*1), spawn=True)\n",
    "\n",
    "print('time is', time.time()-t0)\n",
    "# queue.join()"
   ]
  },
  {
   "cell_type": "code",
   "execution_count": null,
   "metadata": {},
   "outputs": [],
   "source": []
  }
 ],
 "metadata": {
  "kernelspec": {
   "display_name": "Python 3",
   "language": "python",
   "name": "python3"
  },
  "language_info": {
   "codemirror_mode": {
    "name": "ipython",
    "version": 3
   },
   "file_extension": ".py",
   "mimetype": "text/x-python",
   "name": "python",
   "nbconvert_exporter": "python",
   "pygments_lexer": "ipython3",
   "version": "3.6.8"
  }
 },
 "nbformat": 4,
 "nbformat_minor": 2
}

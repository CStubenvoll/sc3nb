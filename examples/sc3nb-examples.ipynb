{
 "cells": [
  {
   "cell_type": "markdown",
   "metadata": {},
   "source": [
    "# sc3nb – SuperCollider3 for jupyter python notebooks\n",
    "(c) 2018-19 by Thomas Hermann, Ferdinand Schlatt"
   ]
  },
  {
   "cell_type": "markdown",
   "metadata": {
    "heading_collapsed": true
   },
   "source": [
    "## Introduction"
   ]
  },
  {
   "cell_type": "markdown",
   "metadata": {
    "hidden": true
   },
   "source": [
    "sc3nb is a python module to enable interaction with and control of SuperCollider3 sound programming language, both sclang and scsynth, from python, and specifically from ipython notebooks resp. jupyter notebooks.\n",
    "\n",
    "The motivation is to facilitate the programming of auditory displays and interactive sonifications by teaming up python (and particularly numpy, scipy, pandas, matplotlib etc.) for data science and SuperCollider3 for interactive real-time sound rendering.\n",
    "\n",
    "sc3nb so far enables basic control of supercollider both via OSC messages/bundles, and via commands send via PIPE to sclang that runs as a subprocess. Some features are rudimentary and less tested, and need extensions. It is meant to grow into a backend for the sonification package PySon, and can be used both from jupyter and in standard python software development.\n",
    "\n",
    "sc3nb will be hosted at GitHub (ToDo) at (ToDo)."
   ]
  },
  {
   "cell_type": "markdown",
   "metadata": {},
   "source": [
    "## Getting Started"
   ]
  },
  {
   "cell_type": "code",
   "execution_count": 1,
   "metadata": {},
   "outputs": [
    {
     "data": {
      "application/javascript": [
       "Jupyter.keyboard_manager.command_shortcuts.add_shortcut('cmd-.', {\n",
       "    help : 'sc.cmd(\"s.freeAll\")',\n",
       "    help_index : 'zz',\n",
       "    handler : function (event) {\n",
       "        IPython.notebook.kernel.execute(\"sc.free_all()\")\n",
       "        return true;\n",
       "    }}\n",
       ");"
      ],
      "text/plain": [
       "<IPython.core.display.Javascript object>"
      ]
     },
     "metadata": {},
     "output_type": "display_data"
    }
   ],
   "source": [
    "# setup, heading\n",
    "import numpy as np\n",
    "import time, random, os\n",
    "import sc3nb as scn\n",
    "\n",
    "# if sclang is not in your path, either append it via\n",
    "os.environ[\"PATH\"] += os.pathsep + '/Applications/SuperCollider-3.9/SuperCollider.app/Contents/MacOS'\n",
    "# or use scn.startup(sclangpath=\"[/path/to/sclang-containing-dir]\"))"
   ]
  },
  {
   "cell_type": "markdown",
   "metadata": {},
   "source": [
    "To startup SuperCollider3 (sclang, which in turn boots the scsynths) use"
   ]
  },
  {
   "cell_type": "code",
   "execution_count": 3,
   "metadata": {},
   "outputs": [
    {
     "name": "stdout",
     "output_type": "stream",
     "text": [
      "Starting sclang...\n",
      "Done.\n",
      "Registering UDP callback...\n",
      "Done.\n",
      "Sclang started on non default port: 57121\n",
      "Booting server...\n",
      "Done.\n",
      "sc3nb started\n"
     ]
    }
   ],
   "source": [
    "sc = scn.startup()  # startup sc3 sclang, boot server, load "
   ]
  },
  {
   "cell_type": "markdown",
   "metadata": {},
   "source": [
    "* sclang is started as subprocess and its output is collected from the SC class. \n",
    "* If sclang executable is not in $PATH, you can specify it by sclangpath=\"/path/to/sclang-containing-dir/sclang\""
   ]
  },
  {
   "cell_type": "markdown",
   "metadata": {},
   "source": [
    "You can see what remained unread on startup by "
   ]
  },
  {
   "cell_type": "code",
   "execution_count": 4,
   "metadata": {
    "scrolled": true
   },
   "outputs": [
    {
     "name": "stdout",
     "output_type": "stream",
     "text": [
      "0\n",
      "-> 0\n",
      "sc3> sc3> \n"
     ]
    }
   ],
   "source": [
    "sc.cmdv(\"0\", discard_output=False)"
   ]
  },
  {
   "cell_type": "markdown",
   "metadata": {},
   "source": [
    "To de/activate logging on the jupyter console (resp. stdout) use"
   ]
  },
  {
   "cell_type": "code",
   "execution_count": 5,
   "metadata": {},
   "outputs": [],
   "source": [
    "# control your console logging as needed\n",
    "scn.SC.console_logging = True"
   ]
  },
  {
   "cell_type": "markdown",
   "metadata": {
    "heading_collapsed": true
   },
   "source": [
    "## sclang command execution"
   ]
  },
  {
   "cell_type": "markdown",
   "metadata": {
    "hidden": true
   },
   "source": [
    "To send sc3 commands (i.e. program strings) to the language, either use the functions\n",
    "* **cmd()**: non verbose\n",
    "* **cmdv()**: verbose, i.e. returning string is collected and output to notebook\n",
    "* **cmdg()**: send program and get and parse the output\n",
    "\n",
    "or use the corresponding \n",
    "* Jupyter line magics **%sc, %scv, %scg**\n",
    "* Jupyter cell magics **%%sc, %%scv, %%scg**\n",
    "which wrap the above functions. See examples below"
   ]
  },
  {
   "cell_type": "code",
   "execution_count": null,
   "metadata": {
    "code_folding": [],
    "hidden": true
   },
   "outputs": [],
   "source": [
    "# sc.cmd(cmdstr, pyvars)\n",
    "sc.cmd('\"hello\".postln')  # check jupyter console for output"
   ]
  },
  {
   "cell_type": "markdown",
   "metadata": {
    "hidden": true
   },
   "source": [
    "This can be more conveniently written as"
   ]
  },
  {
   "cell_type": "code",
   "execution_count": null,
   "metadata": {
    "hidden": true
   },
   "outputs": [],
   "source": [
    "%sc \"sc3nb\".postln  // output on console"
   ]
  },
  {
   "cell_type": "markdown",
   "metadata": {
    "hidden": true
   },
   "source": [
    "Cell magics can be placed within code as shown here:"
   ]
  },
  {
   "cell_type": "code",
   "execution_count": null,
   "metadata": {
    "hidden": true
   },
   "outputs": [],
   "source": [
    "%sc x = Synth.new(\\default, [\\freq, 100])\n",
    "for p in range(1, 10):  # a bouncing ball\n",
    "    time.sleep(1/p)\n",
    "    %sc Synth.new(\\s1, [\\freq, 200])  // this is sc cell so use sc3 comments instead of #\n",
    "%sc x.free"
   ]
  },
  {
   "cell_type": "markdown",
   "metadata": {
    "hidden": true
   },
   "source": [
    "use cmdv If sclang output should be displayed as cell output"
   ]
  },
  {
   "cell_type": "code",
   "execution_count": null,
   "metadata": {
    "code_folding": [],
    "hidden": true
   },
   "outputs": [],
   "source": [
    "sc.cmdv('Synth.new(\\default)')  # a tone should play"
   ]
  },
  {
   "cell_type": "markdown",
   "metadata": {
    "hidden": true
   },
   "source": [
    "* to stop all playing synths either use CMD-. (in Jupyter Command mode).\n",
    "* It is a shortcut for"
   ]
  },
  {
   "cell_type": "code",
   "execution_count": null,
   "metadata": {
    "hidden": true
   },
   "outputs": [],
   "source": [
    "sc.cmd('s.freeAll')"
   ]
  },
  {
   "cell_type": "markdown",
   "metadata": {
    "hidden": true
   },
   "source": [
    "which is also available via"
   ]
  },
  {
   "cell_type": "code",
   "execution_count": null,
   "metadata": {
    "hidden": true
   },
   "outputs": [],
   "source": [
    "sc.free_all()"
   ]
  },
  {
   "cell_type": "markdown",
   "metadata": {
    "hidden": true
   },
   "source": [
    "Use raw python strings for multiline sc3-programs:"
   ]
  },
  {
   "cell_type": "code",
   "execution_count": null,
   "metadata": {
    "hidden": true
   },
   "outputs": [],
   "source": [
    "sc.cmd(r\"\"\"\n",
    "Routine({\n",
    "    x = 10.collect{ |i|\n",
    "        0.2.wait;\n",
    "        Synth.new(\\default, [\\freq, 50+(50*i)]);\n",
    "    };\n",
    "    2.wait;\n",
    "    x.do{|e| \n",
    "        e.release;\n",
    "        0.1.wait;};\n",
    "}).play;\n",
    "\"\"\")"
   ]
  },
  {
   "cell_type": "markdown",
   "metadata": {
    "hidden": true
   },
   "source": [
    "Python variables can be injected into sc3 commands by using the ^ special: The following examples demonstrates it by setting frequencies by using python variables"
   ]
  },
  {
   "cell_type": "code",
   "execution_count": null,
   "metadata": {
    "hidden": true
   },
   "outputs": [],
   "source": [
    "for p in range(1, 50):  # a tone ladder\n",
    "    freq = 50 + p*3\n",
    "    dur = np.log(p)\n",
    "    position = np.sign(p-25)\n",
    "    %sc Synth.new(\\s1, [\\freq, ^freq, \\dur, ^dur, \\pan, ^position])\n",
    "    time.sleep(0.05)"
   ]
  },
  {
   "cell_type": "markdown",
   "metadata": {
    "hidden": true
   },
   "source": [
    "This works only for simple variable types (TODO: describe, test, extend)."
   ]
  },
  {
   "cell_type": "markdown",
   "metadata": {
    "hidden": true
   },
   "source": [
    "The same can be achieved by using the cmd|cmdv|cmdg() functions by providing a dictionary of variable names and content (which can use other python vars or statements"
   ]
  },
  {
   "cell_type": "code",
   "execution_count": null,
   "metadata": {
    "hidden": true
   },
   "outputs": [],
   "source": [
    "a = 15\n",
    "sc.cmdv(\"^name1 + ^name2\", pyvars={'name1': a+9,'name2': 18})"
   ]
  },
  {
   "cell_type": "markdown",
   "metadata": {
    "hidden": true
   },
   "source": [
    "TODO: Beispiel für var names direkt"
   ]
  },
  {
   "cell_type": "markdown",
   "metadata": {
    "hidden": true
   },
   "source": [
    "**Getting SC output to python**\n",
    "\n",
    "* To get the output of an sc program into a python variable, use the cmdg function.\n",
    "* The following example shows how to transfer a synth's nodeID"
   ]
  },
  {
   "cell_type": "code",
   "execution_count": null,
   "metadata": {
    "hidden": true
   },
   "outputs": [],
   "source": [
    "sc.cmd(r\"\"\"x = Synth.new(\\default)\"\"\")"
   ]
  },
  {
   "cell_type": "code",
   "execution_count": null,
   "metadata": {
    "hidden": true
   },
   "outputs": [],
   "source": [
    "nodeID = sc.cmdg(\"x.nodeID\")  # get the nodeId to python\n",
    "print(nodeID)"
   ]
  },
  {
   "cell_type": "code",
   "execution_count": null,
   "metadata": {
    "hidden": true
   },
   "outputs": [],
   "source": [
    "sc.msg(\"/n_free\", nodeID)  # here the nodeID is used to free the instance via scsynth"
   ]
  },
  {
   "cell_type": "markdown",
   "metadata": {
    "hidden": true
   },
   "source": [
    "**BUG:above code does not deliver the latest value, queueing?**"
   ]
  },
  {
   "cell_type": "markdown",
   "metadata": {
    "heading_collapsed": true
   },
   "source": [
    "## Cell magics"
   ]
  },
  {
   "cell_type": "code",
   "execution_count": null,
   "metadata": {
    "hidden": true
   },
   "outputs": [],
   "source": [
    "%sc {SinOsc.ar(MouseX.kr(200,400))}.play  // move mouse horizontally, CMD-. to stop"
   ]
  },
  {
   "cell_type": "code",
   "execution_count": null,
   "metadata": {
    "hidden": true
   },
   "outputs": [],
   "source": [
    "value = %scg 75-25\n",
    "print(\"value = \", value)"
   ]
  },
  {
   "cell_type": "markdown",
   "metadata": {
    "hidden": true
   },
   "source": [
    "**BUG: old stuff sits and is returned as value - howto discard???**"
   ]
  },
  {
   "cell_type": "code",
   "execution_count": null,
   "metadata": {
    "hidden": true
   },
   "outputs": [],
   "source": [
    "%%sc\n",
    "{\n",
    "    x = Synth.new(\\s2, [\\freq, 100, \\num, 1]);\n",
    "    500.do{|i|\n",
    "        x.set(\\freq, sin(0.2*i.pow(1.5))*100 + 200);\n",
    "        0.02.wait;\n",
    "    };\n",
    "    x.free;\n",
    "}.fork"
   ]
  },
  {
   "cell_type": "markdown",
   "metadata": {
    "hidden": true
   },
   "source": [
    "* Try %scv and %%scv for verbose line resp. cells\n",
    "* Try %scg and %%scg for getter line resp. cells"
   ]
  },
  {
   "cell_type": "markdown",
   "metadata": {
    "heading_collapsed": true
   },
   "source": [
    "## exit - startup - boot - delete"
   ]
  },
  {
   "cell_type": "code",
   "execution_count": null,
   "metadata": {
    "hidden": true
   },
   "outputs": [],
   "source": [
    "sc.exit()  # shuts down the server and closes the sclang subprocess"
   ]
  },
  {
   "cell_type": "code",
   "execution_count": null,
   "metadata": {
    "hidden": true
   },
   "outputs": [],
   "source": [
    "sc = scn.startup()"
   ]
  },
  {
   "cell_type": "markdown",
   "metadata": {
    "hidden": true
   },
   "source": [
    "* The server can be booted with sc.boot().\n",
    "* This is normally not necessary as it happens automatically with startup()\n",
    "* However, if the server would be down, e.g. after a s.quit, it can be booted in this way. Compared to an sc.cmd(\"s.boot\"), the sc.boot() waits until booting as completed."
   ]
  },
  {
   "cell_type": "code",
   "execution_count": null,
   "metadata": {
    "code_folding": [],
    "hidden": true
   },
   "outputs": [],
   "source": [
    "%sc s.quit  // let us quit the server first"
   ]
  },
  {
   "cell_type": "code",
   "execution_count": null,
   "metadata": {
    "code_folding": [],
    "hidden": true
   },
   "outputs": [],
   "source": [
    "sc.boot_with_blip()"
   ]
  },
  {
   "cell_type": "markdown",
   "metadata": {
    "code_folding": [],
    "hidden": true
   },
   "source": [
    "boots the server. This is not needed generally as it happens with startup() automatically"
   ]
  },
  {
   "cell_type": "markdown",
   "metadata": {
    "code_folding": [],
    "hidden": true
   },
   "source": [
    "sc.boot_with_blip() is a special boot function that executes some custom code when booted. It is by default executed on scn.startup(). \n",
    "\n",
    "It creates\n",
    "* a synthdef \"s1\" is created which is a discrete sound event with parameters \n",
    "    * frequency freq\n",
    "    * duration dur\n",
    "    * attack time att\n",
    "    * amplitude amp\n",
    "    * number of harmonics num\n",
    "    * spatial panning pan\n",
    "* synthdef \"s2\" is created which is a continuous synth with parameters\n",
    "    * frequency freq\n",
    "    * amplitude amp\n",
    "    * number of harmonics num\n",
    "    * spatial panning pan\n",
    "* a synthdef \"record\" is created with parameter bufnum (buffer number), which simply records audio input to a buffer\n",
    "* finally, two test tones, one with \"s1\", one with \"s2\" are created, which should relax any tensions whether sc is up and running.\n"
   ]
  },
  {
   "cell_type": "code",
   "execution_count": null,
   "metadata": {
    "hidden": true
   },
   "outputs": [],
   "source": [
    "# del(sc) --> shouldn't do it, or?\n",
    "# __s_quit() --> just a private function"
   ]
  },
  {
   "cell_type": "markdown",
   "metadata": {
    "heading_collapsed": true
   },
   "source": [
    "## scsynth control"
   ]
  },
  {
   "cell_type": "markdown",
   "metadata": {
    "hidden": true
   },
   "source": [
    "* Communication with scsynth is done via OSC using the cross-platform package python-osc.\n",
    "* Direct control of synths shortcuts a detour via sclang and is both more efficient and promises a lower latency, however, at the cost of less convenience.\n",
    "* The basic wrapper for OSC messages, both to scsynth and sclang is "
   ]
  },
  {
   "cell_type": "raw",
   "metadata": {
    "code_folding": [],
    "hidden": true,
    "hide_input": false
   },
   "source": [
    "sc.msg(msg_addr, msg_args, sclang=False)"
   ]
  },
  {
   "cell_type": "markdown",
   "metadata": {
    "hidden": true
   },
   "source": [
    "* By default, it sends messages to scsynth, but with sclang=True messages can be sent to sclangs OSC port."
   ]
  },
  {
   "cell_type": "code",
   "execution_count": null,
   "metadata": {
    "code_folding": [],
    "hidden": true
   },
   "outputs": [],
   "source": [
    "sc.msg(\"/s_new\", [\"s1\", 1001, 1, 0, \"freq\", 300])  # a short 300 Hz tone"
   ]
  },
  {
   "cell_type": "markdown",
   "metadata": {
    "hidden": true
   },
   "source": [
    "* note that you have to specify the nodeID (here 1001), possibly without knowing whether that nodeID is free. If it is not, the node could not be created.\n",
    "* using nodeID -1 will let scsynth automatically select a free nodeID, however, so far there is no communication channel to receive this number from scsynth"
   ]
  },
  {
   "cell_type": "code",
   "execution_count": null,
   "metadata": {
    "hidden": true,
    "slideshow": {
     "slide_type": "slide"
    }
   },
   "outputs": [],
   "source": [
    "# a more complex example\n",
    "for p in [0,2,4,7,5,5,9,7,7,12,11,12,7,4,0,2,4,5,7,9,7,5,4,2,4,0,-1,0,2,-5,-1,2,5,4,2,4]:\n",
    "    freq = scn.midicps(48+p)  # see helper fns below\n",
    "    sc.msg(\"/s_new\", [\"s1\", -1, 1, 0, \"freq\", freq, \"dur\", 0.5, \"num\", 1])  # a short 300 Hz tone\n",
    "    time.sleep(0.35)"
   ]
  },
  {
   "cell_type": "markdown",
   "metadata": {
    "hidden": true
   },
   "source": [
    "* Note that the timing is here under python's control, which is not very precise.\n",
    "* Bundles allow to specify a timetag and thus let scsynth control the timing, which is much better, if applicable. Bundles can be sent by"
   ]
  },
  {
   "cell_type": "raw",
   "metadata": {
    "code_folding": [],
    "hidden": true,
    "slideshow": {
     "slide_type": ""
    }
   },
   "source": [
    "sc.bundle(timetag, msg_addr, msg_args=None, sclang=False)"
   ]
  },
  {
   "cell_type": "code",
   "execution_count": null,
   "metadata": {
    "hidden": true
   },
   "outputs": [],
   "source": [
    "sc.bundle(2.2, \"/s_new\", [\"s1\", -1, 1, 0, \"freq\", 200, \"dur\", 1])  # a tone starts in 2.2s\n",
    "sc.bundle(2.7, \"/s_new\", [\"s1\", -1, 1, 0, \"freq\", 300, \"dur\", 1])  # a tone starts in 2.7s"
   ]
  },
  {
   "cell_type": "markdown",
   "metadata": {
    "hidden": true
   },
   "source": [
    "* small numbers are times in seconds relative to time.time() evaluated at fn execution\n",
    "* use time.time()+timeoffset to specify in absolute times (see next example)"
   ]
  },
  {
   "cell_type": "code",
   "execution_count": null,
   "metadata": {
    "hidden": true
   },
   "outputs": [],
   "source": [
    "t0 = time.time()\n",
    "for i, r in enumerate(np.random.randn(200)):\n",
    "    onset = t0 + 2 + r\n",
    "    freq = 500 + 5 * i\n",
    "    sc.bundle(onset, \"/s_new\", [\"s1\", -1, 1, 0, \n",
    "                                \"freq\", freq, \"dur\", 1.5, \"num\", abs(r)+1]) "
   ]
  },
  {
   "cell_type": "markdown",
   "metadata": {
    "hidden": true
   },
   "source": [
    "**Remarks**:\n",
    "* note that the python code returns immediately and all events remain in scsynth\n",
    "* note that unfortunately scsynth has a limited buffer for OSC messages, so it is not viable to spawn thousends of events. scsynth will then simply reject OSC messages.\n",
    "* this motivated (and is solved) with a TimedQueue, see below."
   ]
  },
  {
   "cell_type": "markdown",
   "metadata": {
    "heading_collapsed": true
   },
   "source": [
    "## Recording sc3 output into file with scsynth"
   ]
  },
  {
   "cell_type": "markdown",
   "metadata": {
    "hidden": true
   },
   "source": [
    "The following three functions provide a simple interface using direct msgs to scsynth to record any sc3 output into an audio file"
   ]
  },
  {
   "cell_type": "raw",
   "metadata": {
    "code_folding": [],
    "hidden": true
   },
   "source": [
    "prepare_for_record(onset=0, wavpath=\"record.wav\", bufnum=99, \n",
    "                   nr_channels=2, rec_header=\"wav\", rec_format=\"int16\")"
   ]
  },
  {
   "cell_type": "raw",
   "metadata": {
    "code_folding": [],
    "hidden": true
   },
   "source": [
    "record(onset=0, node_id=2001)"
   ]
  },
  {
   "cell_type": "raw",
   "metadata": {
    "code_folding": [],
    "hidden": true
   },
   "source": [
    "stop_recording(onset=0)"
   ]
  },
  {
   "cell_type": "code",
   "execution_count": null,
   "metadata": {
    "hidden": true
   },
   "outputs": [],
   "source": [
    "# open a oscilloscope and synth that plays back lp filtered microphone signal\n",
    "%sc {LPF.ar(SoundIn.ar(0), 1500, 1)}.scope  "
   ]
  },
  {
   "cell_type": "code",
   "execution_count": null,
   "metadata": {
    "hidden": true
   },
   "outputs": [],
   "source": [
    "sc.prepare_for_record(0, \"my_recording.wav\", 99, 2, \"wav\", \"int16\")  # buffer 99 will be used\n",
    "t0 = time.time()\n",
    "sc.record(t0+0.1, 2001)  # recording starts in 200 ms\n",
    "sc.bundle(0.2, \"/s_new\", [\"s1\", -1, 1, 1, \"freq\", 200, \"dur\", 1])  \n",
    "sc.bundle(0.5, \"/s_new\", [\"s1\", -1, 1, 1, \"freq\", 300, \"dur\", 1])\n",
    "sc.stop_recording(t0+2.0) # and stops in 1 seconds"
   ]
  },
  {
   "cell_type": "markdown",
   "metadata": {
    "hidden": true
   },
   "source": [
    "* note that the sorting in scsynth node tree is with 'at begin' rule\n",
    "* otherwise the rendered tones would be rendered after the outbus was written to file\n",
    "* resulting in an empty file.\n",
    "* however, any whistling recorded via the microphone should be in the file.\n",
    "* the file appear in the same folder as this .ipynb file."
   ]
  },
  {
   "cell_type": "markdown",
   "metadata": {
    "heading_collapsed": true
   },
   "source": [
    "## MIDI interface"
   ]
  },
  {
   "cell_type": "code",
   "execution_count": null,
   "metadata": {
    "code_folding": [],
    "hidden": true
   },
   "outputs": [],
   "source": [
    "midi_ctrl_synth(self, synthname='\\\\syn')"
   ]
  },
  {
   "cell_type": "code",
   "execution_count": null,
   "metadata": {
    "code_folding": [],
    "hidden": true
   },
   "outputs": [],
   "source": [
    "midi_ctrl_free(self)"
   ]
  },
  {
   "cell_type": "code",
   "execution_count": null,
   "metadata": {
    "code_folding": [],
    "hidden": true
   },
   "outputs": [],
   "source": [
    "midi_gate_synth(self, synthname='\\\\syn')"
   ]
  },
  {
   "cell_type": "code",
   "execution_count": null,
   "metadata": {
    "code_folding": [],
    "hidden": true
   },
   "outputs": [],
   "source": [
    "midi_gate_free(self)"
   ]
  },
  {
   "cell_type": "markdown",
   "metadata": {
    "code_folding": [],
    "heading_collapsed": true
   },
   "source": [
    "## Helper functions"
   ]
  },
  {
   "cell_type": "markdown",
   "metadata": {
    "hidden": true
   },
   "source": [
    "* SuperCollider coders are familiar and frequently use a number of useful converter functions\n",
    "* the helper functions provide pythonic pendants namely currently for (to be extended):"
   ]
  },
  {
   "cell_type": "raw",
   "metadata": {
    "code_folding": [],
    "hidden": true
   },
   "source": [
    "linlin(x, smi, sma, dmi, dma)"
   ]
  },
  {
   "cell_type": "markdown",
   "metadata": {
    "code_folding": [],
    "hidden": true
   },
   "source": [
    "* to linearly map x from between [smi, sma] to [dmi, dma]\n",
    "* non range check is done, and no clipping.\n",
    "* for negative slope mapping, simply swap dmi and dma"
   ]
  },
  {
   "cell_type": "code",
   "execution_count": null,
   "metadata": {
    "hidden": true
   },
   "outputs": [],
   "source": [
    "%matplotlib inline"
   ]
  },
  {
   "cell_type": "code",
   "execution_count": null,
   "metadata": {
    "hidden": true
   },
   "outputs": [],
   "source": [
    "xs = np.linspace(1,9,100)\n",
    "plt.plot(xs, [scn.linlin(x, 0, 10, 300, 500) for x in xs])\n",
    "plt.axis([0,10,300,500]);"
   ]
  },
  {
   "cell_type": "code",
   "execution_count": null,
   "metadata": {
    "code_folding": [],
    "hidden": true
   },
   "outputs": [],
   "source": [
    "scn.midicps(69.2)  # convert MIDI note to cycles per second (cps) in [Hz]"
   ]
  },
  {
   "cell_type": "code",
   "execution_count": null,
   "metadata": {
    "code_folding": [],
    "hidden": true
   },
   "outputs": [],
   "source": [
    "scn.cpsmidi(440)   # and back to MIDI note (in float resolution)"
   ]
  },
  {
   "cell_type": "raw",
   "metadata": {
    "code_folding": [],
    "hidden": true
   },
   "source": [
    "scn.clip(value, minimum=-float(\"inf\"), maximum=float(\"inf\"))"
   ]
  },
  {
   "cell_type": "code",
   "execution_count": null,
   "metadata": {
    "hidden": true
   },
   "outputs": [],
   "source": [
    "xs = np.linspace(1,9,100)\n",
    "plt.plot([scn.clip(x, 5, 7) for x in xs]);"
   ]
  },
  {
   "cell_type": "code",
   "execution_count": null,
   "metadata": {
    "code_folding": [],
    "hidden": true
   },
   "outputs": [],
   "source": [
    "# dbamp(db) converts dB value in amplitude, 0 dB = 1, '*2' \\approx +6dB\n",
    "dbs = np.linspace(-20, 20)\n",
    "plt.plot(dbs, [scn.dbamp(d) for d in dbs]);\n",
    "# plt.semilogy()"
   ]
  },
  {
   "cell_type": "code",
   "execution_count": null,
   "metadata": {
    "code_folding": [],
    "hidden": true
   },
   "outputs": [],
   "source": [
    "# ampdb(amp) converts an amplitude to dB, assuming 0dB=1\n",
    "scn.ampdb(0.2)"
   ]
  },
  {
   "cell_type": "markdown",
   "metadata": {
    "code_folding": [],
    "hidden": true
   },
   "source": [
    "**TODO: move play() and record() to a pya**"
   ]
  },
  {
   "cell_type": "markdown",
   "metadata": {
    "heading_collapsed": true
   },
   "source": [
    "## Creating an OSC responder and msg to sclang for synthesis"
   ]
  },
  {
   "cell_type": "code",
   "execution_count": null,
   "metadata": {
    "hidden": true
   },
   "outputs": [],
   "source": [
    "%%scv\n",
    "OSCdef(\\dinger, { | msg, time, addr, recvPort |\n",
    "    var freq = msg[2];\n",
    "    // msg.postln;\n",
    "    {Pulse.ar(freq, 0.04, 0.3)!2 * EnvGen.ar(Env.perc, doneAction:2)}.play\n",
    "}, '/ding')"
   ]
  },
  {
   "cell_type": "code",
   "execution_count": null,
   "metadata": {
    "hidden": true
   },
   "outputs": [],
   "source": [
    "for i in range(100):\n",
    "    sc.msg(\"/ding\", [\"freq\", 1000-5*i], sclang=True)"
   ]
  },
  {
   "cell_type": "code",
   "execution_count": null,
   "metadata": {
    "hidden": true
   },
   "outputs": [],
   "source": [
    "%sc OSCdef.freeAll()"
   ]
  },
  {
   "cell_type": "markdown",
   "metadata": {
    "heading_collapsed": true
   },
   "source": [
    "## TimedQueue Basics"
   ]
  },
  {
   "cell_type": "markdown",
   "metadata": {
    "hidden": true
   },
   "source": [
    "Motivation:\n",
    "* for sonifications with precise timing, thousends of events need to be spawn at the exact time.\n",
    "* doing this with bundles doesn't work as the OSC buffer of scsynth is limited\n",
    "* it needs a TimedQueue where events can be added for time-precise dispatching\n",
    "* a thread then simply checks what items are due and executes them\n",
    "* using arbitrary functions as objects for the queue allows to use it both for sonification (e.g. sending OSC messages/bundles) and even visualization\n",
    "* however, the functions should complete really quickly as otherwise the queue would run late and fail to process due events\n",
    "* hence, it is the responsibility of the user to be careful\n",
    "* if, however, longer programs are needed, they can be spawn as threads on execution\n",
    "* The following demos illustrate the core functionality with console print and sound"
   ]
  },
  {
   "cell_type": "code",
   "execution_count": 6,
   "metadata": {
    "hidden": true
   },
   "outputs": [],
   "source": [
    "queue = scn.TimedQueue()"
   ]
  },
  {
   "cell_type": "code",
   "execution_count": 7,
   "metadata": {
    "hidden": true
   },
   "outputs": [],
   "source": [
    "import sys\n",
    "def myfun(x):\n",
    "    os.write(1, \"{}\\n\".format(x).encode())\n",
    "    sys.stderr.flush()\n",
    "    \n",
    "def myblip(freq):\n",
    "    sc.msg(\"/s_new\", [\"s1\", -1, 1, 0, \"freq\", freq, \"num\", 3])"
   ]
  },
  {
   "cell_type": "code",
   "execution_count": 8,
   "metadata": {
    "hidden": true
   },
   "outputs": [],
   "source": [
    "myfun(4)"
   ]
  },
  {
   "cell_type": "code",
   "execution_count": 9,
   "metadata": {
    "hidden": true
   },
   "outputs": [],
   "source": [
    "myblip(300)"
   ]
  },
  {
   "cell_type": "code",
   "execution_count": 11,
   "metadata": {
    "hidden": true
   },
   "outputs": [],
   "source": [
    "t0 = time.time()\n",
    "for i in range(50):\n",
    "    queue.put(t0+i*0.04, myblip, 400-1*7*i)\n",
    "    queue.put(t0+i*0.04, myfun,  400+30*i)"
   ]
  },
  {
   "cell_type": "markdown",
   "metadata": {
    "hidden": true
   },
   "source": [
    "**BUG: queue stops erratically after 10-15 secs of inactivity, enter GUI avoids the problem**"
   ]
  },
  {
   "cell_type": "markdown",
   "metadata": {
    "heading_collapsed": true
   },
   "source": [
    "## TimedQueueSC with matplotlib visuals"
   ]
  },
  {
   "cell_type": "code",
   "execution_count": null,
   "metadata": {
    "hidden": true
   },
   "outputs": [],
   "source": [
    "import matplotlib\n",
    "import matplotlib.pyplot as plt\n",
    "%matplotlib qt5"
   ]
  },
  {
   "cell_type": "code",
   "execution_count": null,
   "metadata": {
    "hidden": true
   },
   "outputs": [],
   "source": [
    "%matplotlib"
   ]
  },
  {
   "cell_type": "code",
   "execution_count": null,
   "metadata": {
    "hidden": true
   },
   "outputs": [],
   "source": [
    "# load data\n",
    "data = np.loadtxt(\"data/iris.csv\", delimiter=',')"
   ]
  },
  {
   "cell_type": "code",
   "execution_count": null,
   "metadata": {
    "hidden": true
   },
   "outputs": [],
   "source": [
    "# create figure, axis, plots\n",
    "fig, ax = plt.subplots(1)  # create figure\n",
    "mngr = plt.get_current_fig_manager(); mngr.window.setGeometry(1200, 0, 500, 400)\n",
    "pldata, = ax.plot(data[:,1], data[:,2], \".\", ms=5) # create plots\n",
    "plmarked, = ax.plot([], [], \"ro\", ms=5, lw=0.5)\n",
    "# plt.show(block=False); plt.ion(); fig.canvas.draw() # not needed if plot shows\n",
    "\n",
    "# create the queue\n",
    "queue = scn.TimedQueueSC(sc)"
   ]
  },
  {
   "cell_type": "code",
   "execution_count": null,
   "metadata": {
    "hidden": true
   },
   "outputs": [],
   "source": [
    "def update_plot(x, y):\n",
    "    global fig, ax, pldata, plmarked\n",
    "    plmarked.set_data([x], [y])\n",
    "    ax.draw_artist(ax.patch)\n",
    "    ax.draw_artist(pldata)\n",
    "    ax.draw_artist(plmarked)\n",
    "    fig.canvas.update() # additional fig.canvas.flush_events() not needed?\n",
    "\n",
    "t0 = time.time()\n",
    "for i, r in enumerate(data):\n",
    "    onset = t0 + scn.linlin(r[1], 4, 8, 0.5, 4) + random.random()*0.2\n",
    "    freq = scn.midicps(scn.linlin(r[2], 2, 5, 60, 80))\n",
    "    pos = scn.linlin(r[4], 0, 2, -1, 1)\n",
    "    queue.put(onset-0.1, sc.bundle, (onset, \"/s_new\", [\n",
    "        \"pong\", -1, 1, 0, \"freq\", freq, \"amp\", 0.05, \"dur\", .52, \"pos\", pos]))\n",
    "    queue.put(onset-0.1, update_plot, (r[1], r[2]), spawn=False)\n",
    "print('time used:', time.time() - t0)"
   ]
  },
  {
   "cell_type": "markdown",
   "metadata": {
    "heading_collapsed": true
   },
   "source": [
    "## TimedQueueSC PMSon with matplotlib highlights"
   ]
  },
  {
   "cell_type": "code",
   "execution_count": null,
   "metadata": {
    "hidden": true
   },
   "outputs": [],
   "source": [
    "data = np.vstack((np.random.randn(400, 7), np.random.randn(400, 7)+5))"
   ]
  },
  {
   "cell_type": "code",
   "execution_count": null,
   "metadata": {
    "hidden": true
   },
   "outputs": [],
   "source": [
    "# create figure\n",
    "fig, ax = plt.subplots(1)  # create figure\n",
    "mngr = plt.get_current_fig_manager(); mngr.window.setGeometry(1200, 0, 500, 400)\n",
    "\n",
    "# create the queue\n",
    "queue = scn.TimedQueueSC(sc)"
   ]
  },
  {
   "cell_type": "code",
   "execution_count": null,
   "metadata": {
    "hidden": true
   },
   "outputs": [],
   "source": [
    "def mapcol(row, stats, col, val_from, val_to):  # helper for mapping\n",
    "    return scn.linlin(row[col], stats[col, 0], stats[col, 1], val_from, val_to)\n",
    "\n",
    "def select(i):  #  highlight selection\n",
    "    selected[i] = True\n",
    "\n",
    "def unselect(i):\n",
    "    selected[i] = False\n",
    "\n",
    "def update_plot(xs, ys): \n",
    "    global fig, ax, pldata, plmarked, selected\n",
    "    plmarked.set_data(xs[selected], ys[selected])\n",
    "    ax.draw_artist(ax.patch)\n",
    "    ax.draw_artist(pldata)\n",
    "    ax.draw_artist(plmarked)\n",
    "    fig.canvas.flush_events()\n",
    "    fig.canvas.update()\n",
    "\n",
    "# parameter mapping sonification with GUI\n",
    "tot_dur = 5  # total duration of the sonification\n",
    "max_ev_dur = 5.5  # maximal event duration\n",
    "delay = 1  # offset\n",
    "\n",
    "stats = np.vstack((np.min(data, 0), np.max(data, 0))).T\n",
    "selected = np.zeros(np.shape(data)[0], np.bool)\n",
    "\n",
    "# create axis, plots\n",
    "ax.clear()\n",
    "plmarked, = ax.plot([], [], \"ro\", ms=4, lw=0.5)\n",
    "pldata, = ax.plot(data[:,1], data[:,2], \".\", ms=2) # create plots\n",
    "\n",
    "t0 = time.time()\n",
    "\n",
    "for i, r in enumerate(data):\n",
    "    onset = t0 + delay + 5* i/800 # mapcol(r, stats, 3, 0, tot_dur)\n",
    "    freq  = scn.midicps( mapcol(r, stats, 2, 60, 90))\n",
    "    ev_dur = mapcol(r, stats, 4, 0.2, max_ev_dur)\n",
    "    # sonification\n",
    "    queue.put(onset-delay, sc.bundle, (onset, \"/s_new\", [\n",
    "        \"pong\", -1, 1, 0, \"freq\", freq, \"amp\", 0.05, \"dur\", ev_dur, \"pos\", pos]))\n",
    "    # on/off events of marker highlight\n",
    "    queue.put(onset, select, i)\n",
    "    queue.put(onset + ev_dur, unselect, i)\n",
    "\n",
    "# update plot at given rate from earliest to latext time\n",
    "for t in np.arange(t0, t0+delay+tot_dur+ev_dur+1, 1/10):  # 1 / update rate\n",
    "    queue.put(t, update_plot, (data[:,1], data[:,2]))"
   ]
  },
  {
   "cell_type": "markdown",
   "metadata": {
    "heading_collapsed": true
   },
   "source": [
    "## TimedQueueSC PMSon with timeseries data and matplotlib"
   ]
  },
  {
   "cell_type": "code",
   "execution_count": 10,
   "metadata": {
    "hidden": true
   },
   "outputs": [],
   "source": [
    "sc.bundle(0, \"/s_new\", [\"s2\", 1200, 1, 0, \"amp\", 0.04])\n",
    "sc.bundle(0.2, \"/n_set\", [1200, \"freq\", 200, \"num\", 1, \"amp\", 0.2, \"pan\", 0])\n",
    "sc.bundle(0.4, \"/n_free\", 1200)"
   ]
  },
  {
   "cell_type": "code",
   "execution_count": null,
   "metadata": {
    "hidden": true
   },
   "outputs": [],
   "source": [
    "ts = np.arange(0, 20, 0.01)\n",
    "data = np.vstack((ts, \n",
    "                  np.sin(2.5*ts) + 0.01*ts*np.random.randn(np.shape(ts)[0]), \n",
    "                  0.08*ts[::-1]*np.cos(3.5*ts)**2)).T"
   ]
  },
  {
   "cell_type": "code",
   "execution_count": null,
   "metadata": {
    "hidden": true
   },
   "outputs": [],
   "source": [
    "# create figure\n",
    "fig, ax = plt.subplots(1)  # create figure\n",
    "mngr = plt.get_current_fig_manager(); mngr.window.setGeometry(1200, 0, 500, 400)\n",
    "\n",
    "# create axis, plots\n",
    "ax.clear()\n",
    "plmarked, = ax.plot([], [], \"r-\", lw=1)\n",
    "pldata, = ax.plot(data[:,0], data[:,1], \"-\", ms=2) # create plots\n",
    "pldataR, = ax.plot(data[:,0], data[:,2], \"-\", ms=2) # create plots"
   ]
  },
  {
   "cell_type": "code",
   "execution_count": null,
   "metadata": {
    "hidden": true
   },
   "outputs": [],
   "source": [
    "# create the queue\n",
    "queue = scn.TimedQueueSC(sc)\n",
    "\n",
    "def mapcol(row, stats, col, val_from, val_to):  # helper for mapping\n",
    "    return scn.linlin(row[col], stats[col, 0], stats[col, 1], val_from, val_to)\n",
    "\n",
    "def update_plot(t): \n",
    "    global fig, ax, pldata, plmarked, selected\n",
    "    plmarked.set_data([t,t], [-10000, 10000])\n",
    "    ax.draw_artist(ax.patch)\n",
    "    ax.draw_artist(pldata)\n",
    "    ax.draw_artist(pldataR)\n",
    "    ax.draw_artist(plmarked)\n",
    "    fig.canvas.update()\n",
    "    # fig.canvas.flush_events()\n",
    "\n",
    "stats = np.vstack((np.min(data, 0), np.max(data, 0))).T\n",
    "selected = np.zeros(np.shape(data)[0], np.bool)\n",
    "\n",
    "# parameter mapping sonification with GUI\n",
    "delay = 0.5\n",
    "rate = 2\n",
    "\n",
    "t0 = time.time()\n",
    "queue.put(t0, sc.msg, (\"/s_new\", [\"s2\", 1200, 1, 0, \"amp\", 0]))\n",
    "queue.put(t0, sc.msg, (\"/s_new\", [\"s2\", 1201, 1, 0, \"amp\", 0]))\n",
    "\n",
    "max_onset = 0\n",
    "latest_gui_onset = 0\n",
    "\n",
    "ts = []\n",
    "for i, r in enumerate(data[::2, :]):\n",
    "    ts.append(time.time()-t0)\n",
    "    if i==0: tmin = r[0]\n",
    "    onset = (r[0]-tmin)/rate\n",
    "    freq   = scn.midicps( mapcol(r, stats, 1, 60, 70))\n",
    "    freqR  = 0.5 * scn.midicps( mapcol(r, stats, 2, 70, 80))\n",
    "\n",
    "    # sonification\n",
    "    tt = t0 + delay + onset\n",
    "    if tt > max_onset: max_onset = tt\n",
    "    queue.put(tt-0.1, sc.bundle, (tt, \"/n_set\", \n",
    "        [1200, \"freq\", freq, \"num\", 4, \"amp\", 0.2, \"pan\", -1, \"lg\", 0]))\n",
    "    queue.put(tt-0.1, sc.bundle, (tt, \"/n_set\", \n",
    "        [1201, \"freq\", freqR, \"num\", 1, \"amp\", 0.1, \"pan\", 1]))\n",
    "    if tt > latest_gui_onset + 0.05:  # not more than 20 Hz gui update\n",
    "        latest_gui_onset = tt\n",
    "        queue.put(tt-0.1, update_plot, (r[0],), spawn=False)\n",
    "queue.put(max_onset, sc.msg, (\"/n_free\", 1200))\n",
    "queue.put(max_onset, sc.msg, (\"/n_free\", 1201))\n",
    "              \n",
    "# queue.join()\n",
    "print(time.time()-t0)"
   ]
  },
  {
   "cell_type": "markdown",
   "metadata": {
    "heading_collapsed": true
   },
   "source": [
    "## TimedQueueSC with pythreejs"
   ]
  },
  {
   "cell_type": "code",
   "execution_count": 12,
   "metadata": {
    "hidden": true
   },
   "outputs": [],
   "source": [
    "from pythreejs import *"
   ]
  },
  {
   "cell_type": "code",
   "execution_count": 13,
   "metadata": {
    "code_folding": [
     0
    ],
    "hidden": true
   },
   "outputs": [],
   "source": [
    "# create data\n",
    "data = np.vstack((np.random.randn(100, 7), np.random.randn(100, 7)+5))"
   ]
  },
  {
   "cell_type": "code",
   "execution_count": 14,
   "metadata": {
    "code_folding": [
     0
    ],
    "hidden": true
   },
   "outputs": [
    {
     "data": {
      "application/vnd.jupyter.widget-view+json": {
       "model_id": "8a9a69a10e324856921a16f336357110",
       "version_major": 2,
       "version_minor": 0
      },
      "text/plain": [
       "Renderer(camera=PerspectiveCamera(aspect=2.6666666666666665, children=(DirectionalLight(intensity=0.5, positio…"
      ]
     },
     "metadata": {},
     "output_type": "display_data"
    }
   ],
   "source": [
    "# create WebGL figure with data point cubes\n",
    "view_width = 800\n",
    "view_height = 300\n",
    "size = 10  # size of coordinate frame\n",
    "\n",
    "linesgeom = Geometry(vertices=[[0, 0, 0], [size, 0, 0], [0, 0, 0], [0, size, 0], \n",
    "                               [0, 0, 0], [0, 0, size]],\n",
    "         colors = ['red', 'red', 'green', 'green', 'black', 'black'])\n",
    "lines = Line(geometry=linesgeom, \n",
    "             material=LineBasicMaterial(linewidth=5, vertexColors='VertexColors'), \n",
    "             type='LinePieces')\n",
    "c = PerspectiveCamera(position=[2, 2, 15], up=[0, 1, 0], aspect=view_width / view_height,\n",
    "                      children=[DirectionalLight(color='#ffffff', position=[-13, 5, 6], intensity=0.5)])\n",
    "scene = Scene(children=[lines, c, AmbientLight(color='#808080')])\n",
    "renderer = Renderer(camera=c, scene=scene, width=view_width, height=view_height,\n",
    "                    controls=[OrbitControls(controlling=c)])\n",
    "geometry = BoxBufferGeometry(1, 1, 1)\n",
    "dpm = []\n",
    "for dp in data:\n",
    "    m = Mesh(geometry=geometry, material=MeshLambertMaterial(color='#000000'), \n",
    "             position=[dp[0], dp[1], dp[2]],\n",
    "             scale=(0.1,0.1,0.1))\n",
    "    dpm.append(m)\n",
    "    scene.add(m)\n",
    "display(renderer)\n",
    "# c.position = (-13, 4, 5.8)  # to update cam position later interactively"
   ]
  },
  {
   "cell_type": "code",
   "execution_count": 20,
   "metadata": {
    "code_folding": [
     0
    ],
    "hidden": true
   },
   "outputs": [],
   "source": [
    "# sonification\n",
    "queue = scn.TimedQueueSC(sc)\n",
    "\n",
    "def mapcol(row, stats, col, val_from, val_to):  # helper for mapping\n",
    "    return scn.linlin(row[col], stats[col, 0], stats[col, 1], val_from, val_to)\n",
    "\n",
    "def select(i):  #  highlight selection\n",
    "    dpm[i].scale=(0.5,)*3\n",
    "    dpm[i].material.color='#ff0000'\n",
    "\n",
    "def unselect(i):\n",
    "    dpm[i].scale=(0.1,)*3\n",
    "    dpm[i].material.color='#00c0f0'\n",
    "\n",
    "# parameter mapping sonification with GUI\n",
    "tot_dur = 10  # total duration of the sonification\n",
    "max_ev_dur = 1.5  # maximal event duration\n",
    "delay = 1  # offset\n",
    "\n",
    "stats = np.vstack((np.min(data, 0), np.max(data, 0))).T\n",
    "selected = np.zeros(np.shape(data)[0], np.bool)\n",
    "\n",
    "t0 = time.time()\n",
    "for i, r in enumerate(data):\n",
    "    onset = t0 + delay + mapcol(r, stats, 3, 0, tot_dur)\n",
    "    freq  = scn.midicps( mapcol(r, stats, 2, 60, 90))\n",
    "    ev_dur = mapcol(r, stats, 4, 0.2, max_ev_dur)\n",
    "    # sonification\n",
    "    queue.put(onset-0.3, sc.bundle, (onset, \"/s_new\", [\n",
    "        \"s1\", -1, 1, 0, \"freq\", freq, \"amp\", 0.05, \"dur\", ev_dur, \"num\", 0, \"pos\", 0]))\n",
    "    # on/off events of marker highlight\n",
    "    queue.put(onset-0.1, select, i)\n",
    "    queue.put(onset + ev_dur, unselect, i)"
   ]
  },
  {
   "cell_type": "markdown",
   "metadata": {
    "heading_collapsed": true
   },
   "source": [
    "## TimedQueueSC with Bokeh plot update"
   ]
  },
  {
   "cell_type": "code",
   "execution_count": 6,
   "metadata": {
    "hidden": true
   },
   "outputs": [
    {
     "data": {
      "text/html": [
       "\n",
       "    <div class=\"bk-root\">\n",
       "        <a href=\"https://bokeh.pydata.org\" target=\"_blank\" class=\"bk-logo bk-logo-small bk-logo-notebook\"></a>\n",
       "        <span id=\"1001\">Loading BokehJS ...</span>\n",
       "    </div>"
      ]
     },
     "metadata": {},
     "output_type": "display_data"
    },
    {
     "data": {
      "application/javascript": [
       "\n",
       "(function(root) {\n",
       "  function now() {\n",
       "    return new Date();\n",
       "  }\n",
       "\n",
       "  var force = true;\n",
       "\n",
       "  if (typeof (root._bokeh_onload_callbacks) === \"undefined\" || force === true) {\n",
       "    root._bokeh_onload_callbacks = [];\n",
       "    root._bokeh_is_loading = undefined;\n",
       "  }\n",
       "\n",
       "  var JS_MIME_TYPE = 'application/javascript';\n",
       "  var HTML_MIME_TYPE = 'text/html';\n",
       "  var EXEC_MIME_TYPE = 'application/vnd.bokehjs_exec.v0+json';\n",
       "  var CLASS_NAME = 'output_bokeh rendered_html';\n",
       "\n",
       "  /**\n",
       "   * Render data to the DOM node\n",
       "   */\n",
       "  function render(props, node) {\n",
       "    var script = document.createElement(\"script\");\n",
       "    node.appendChild(script);\n",
       "  }\n",
       "\n",
       "  /**\n",
       "   * Handle when an output is cleared or removed\n",
       "   */\n",
       "  function handleClearOutput(event, handle) {\n",
       "    var cell = handle.cell;\n",
       "\n",
       "    var id = cell.output_area._bokeh_element_id;\n",
       "    var server_id = cell.output_area._bokeh_server_id;\n",
       "    // Clean up Bokeh references\n",
       "    if (id != null && id in Bokeh.index) {\n",
       "      Bokeh.index[id].model.document.clear();\n",
       "      delete Bokeh.index[id];\n",
       "    }\n",
       "\n",
       "    if (server_id !== undefined) {\n",
       "      // Clean up Bokeh references\n",
       "      var cmd = \"from bokeh.io.state import curstate; print(curstate().uuid_to_server['\" + server_id + \"'].get_sessions()[0].document.roots[0]._id)\";\n",
       "      cell.notebook.kernel.execute(cmd, {\n",
       "        iopub: {\n",
       "          output: function(msg) {\n",
       "            var id = msg.content.text.trim();\n",
       "            if (id in Bokeh.index) {\n",
       "              Bokeh.index[id].model.document.clear();\n",
       "              delete Bokeh.index[id];\n",
       "            }\n",
       "          }\n",
       "        }\n",
       "      });\n",
       "      // Destroy server and session\n",
       "      var cmd = \"import bokeh.io.notebook as ion; ion.destroy_server('\" + server_id + \"')\";\n",
       "      cell.notebook.kernel.execute(cmd);\n",
       "    }\n",
       "  }\n",
       "\n",
       "  /**\n",
       "   * Handle when a new output is added\n",
       "   */\n",
       "  function handleAddOutput(event, handle) {\n",
       "    var output_area = handle.output_area;\n",
       "    var output = handle.output;\n",
       "\n",
       "    // limit handleAddOutput to display_data with EXEC_MIME_TYPE content only\n",
       "    if ((output.output_type != \"display_data\") || (!output.data.hasOwnProperty(EXEC_MIME_TYPE))) {\n",
       "      return\n",
       "    }\n",
       "\n",
       "    var toinsert = output_area.element.find(\".\" + CLASS_NAME.split(' ')[0]);\n",
       "\n",
       "    if (output.metadata[EXEC_MIME_TYPE][\"id\"] !== undefined) {\n",
       "      toinsert[toinsert.length - 1].firstChild.textContent = output.data[JS_MIME_TYPE];\n",
       "      // store reference to embed id on output_area\n",
       "      output_area._bokeh_element_id = output.metadata[EXEC_MIME_TYPE][\"id\"];\n",
       "    }\n",
       "    if (output.metadata[EXEC_MIME_TYPE][\"server_id\"] !== undefined) {\n",
       "      var bk_div = document.createElement(\"div\");\n",
       "      bk_div.innerHTML = output.data[HTML_MIME_TYPE];\n",
       "      var script_attrs = bk_div.children[0].attributes;\n",
       "      for (var i = 0; i < script_attrs.length; i++) {\n",
       "        toinsert[toinsert.length - 1].firstChild.setAttribute(script_attrs[i].name, script_attrs[i].value);\n",
       "      }\n",
       "      // store reference to server id on output_area\n",
       "      output_area._bokeh_server_id = output.metadata[EXEC_MIME_TYPE][\"server_id\"];\n",
       "    }\n",
       "  }\n",
       "\n",
       "  function register_renderer(events, OutputArea) {\n",
       "\n",
       "    function append_mime(data, metadata, element) {\n",
       "      // create a DOM node to render to\n",
       "      var toinsert = this.create_output_subarea(\n",
       "        metadata,\n",
       "        CLASS_NAME,\n",
       "        EXEC_MIME_TYPE\n",
       "      );\n",
       "      this.keyboard_manager.register_events(toinsert);\n",
       "      // Render to node\n",
       "      var props = {data: data, metadata: metadata[EXEC_MIME_TYPE]};\n",
       "      render(props, toinsert[toinsert.length - 1]);\n",
       "      element.append(toinsert);\n",
       "      return toinsert\n",
       "    }\n",
       "\n",
       "    /* Handle when an output is cleared or removed */\n",
       "    events.on('clear_output.CodeCell', handleClearOutput);\n",
       "    events.on('delete.Cell', handleClearOutput);\n",
       "\n",
       "    /* Handle when a new output is added */\n",
       "    events.on('output_added.OutputArea', handleAddOutput);\n",
       "\n",
       "    /**\n",
       "     * Register the mime type and append_mime function with output_area\n",
       "     */\n",
       "    OutputArea.prototype.register_mime_type(EXEC_MIME_TYPE, append_mime, {\n",
       "      /* Is output safe? */\n",
       "      safe: true,\n",
       "      /* Index of renderer in `output_area.display_order` */\n",
       "      index: 0\n",
       "    });\n",
       "  }\n",
       "\n",
       "  // register the mime type if in Jupyter Notebook environment and previously unregistered\n",
       "  if (root.Jupyter !== undefined) {\n",
       "    var events = require('base/js/events');\n",
       "    var OutputArea = require('notebook/js/outputarea').OutputArea;\n",
       "\n",
       "    if (OutputArea.prototype.mime_types().indexOf(EXEC_MIME_TYPE) == -1) {\n",
       "      register_renderer(events, OutputArea);\n",
       "    }\n",
       "  }\n",
       "\n",
       "  \n",
       "  if (typeof (root._bokeh_timeout) === \"undefined\" || force === true) {\n",
       "    root._bokeh_timeout = Date.now() + 5000;\n",
       "    root._bokeh_failed_load = false;\n",
       "  }\n",
       "\n",
       "  var NB_LOAD_WARNING = {'data': {'text/html':\n",
       "     \"<div style='background-color: #fdd'>\\n\"+\n",
       "     \"<p>\\n\"+\n",
       "     \"BokehJS does not appear to have successfully loaded. If loading BokehJS from CDN, this \\n\"+\n",
       "     \"may be due to a slow or bad network connection. Possible fixes:\\n\"+\n",
       "     \"</p>\\n\"+\n",
       "     \"<ul>\\n\"+\n",
       "     \"<li>re-rerun `output_notebook()` to attempt to load from CDN again, or</li>\\n\"+\n",
       "     \"<li>use INLINE resources instead, as so:</li>\\n\"+\n",
       "     \"</ul>\\n\"+\n",
       "     \"<code>\\n\"+\n",
       "     \"from bokeh.resources import INLINE\\n\"+\n",
       "     \"output_notebook(resources=INLINE)\\n\"+\n",
       "     \"</code>\\n\"+\n",
       "     \"</div>\"}};\n",
       "\n",
       "  function display_loaded() {\n",
       "    var el = document.getElementById(\"1001\");\n",
       "    if (el != null) {\n",
       "      el.textContent = \"BokehJS is loading...\";\n",
       "    }\n",
       "    if (root.Bokeh !== undefined) {\n",
       "      if (el != null) {\n",
       "        el.textContent = \"BokehJS \" + root.Bokeh.version + \" successfully loaded.\";\n",
       "      }\n",
       "    } else if (Date.now() < root._bokeh_timeout) {\n",
       "      setTimeout(display_loaded, 100)\n",
       "    }\n",
       "  }\n",
       "\n",
       "\n",
       "  function run_callbacks() {\n",
       "    try {\n",
       "      root._bokeh_onload_callbacks.forEach(function(callback) { callback() });\n",
       "    }\n",
       "    finally {\n",
       "      delete root._bokeh_onload_callbacks\n",
       "    }\n",
       "    console.info(\"Bokeh: all callbacks have finished\");\n",
       "  }\n",
       "\n",
       "  function load_libs(js_urls, callback) {\n",
       "    root._bokeh_onload_callbacks.push(callback);\n",
       "    if (root._bokeh_is_loading > 0) {\n",
       "      console.log(\"Bokeh: BokehJS is being loaded, scheduling callback at\", now());\n",
       "      return null;\n",
       "    }\n",
       "    if (js_urls == null || js_urls.length === 0) {\n",
       "      run_callbacks();\n",
       "      return null;\n",
       "    }\n",
       "    console.log(\"Bokeh: BokehJS not loaded, scheduling load and callback at\", now());\n",
       "    root._bokeh_is_loading = js_urls.length;\n",
       "    for (var i = 0; i < js_urls.length; i++) {\n",
       "      var url = js_urls[i];\n",
       "      var s = document.createElement('script');\n",
       "      s.src = url;\n",
       "      s.async = false;\n",
       "      s.onreadystatechange = s.onload = function() {\n",
       "        root._bokeh_is_loading--;\n",
       "        if (root._bokeh_is_loading === 0) {\n",
       "          console.log(\"Bokeh: all BokehJS libraries loaded\");\n",
       "          run_callbacks()\n",
       "        }\n",
       "      };\n",
       "      s.onerror = function() {\n",
       "        console.warn(\"failed to load library \" + url);\n",
       "      };\n",
       "      console.log(\"Bokeh: injecting script tag for BokehJS library: \", url);\n",
       "      document.getElementsByTagName(\"head\")[0].appendChild(s);\n",
       "    }\n",
       "  };var element = document.getElementById(\"1001\");\n",
       "  if (element == null) {\n",
       "    console.log(\"Bokeh: ERROR: autoload.js configured with elementid '1001' but no matching script tag was found. \")\n",
       "    return false;\n",
       "  }\n",
       "\n",
       "  var js_urls = [\"https://cdn.pydata.org/bokeh/release/bokeh-1.0.4.min.js\", \"https://cdn.pydata.org/bokeh/release/bokeh-widgets-1.0.4.min.js\", \"https://cdn.pydata.org/bokeh/release/bokeh-tables-1.0.4.min.js\", \"https://cdn.pydata.org/bokeh/release/bokeh-gl-1.0.4.min.js\"];\n",
       "\n",
       "  var inline_js = [\n",
       "    function(Bokeh) {\n",
       "      Bokeh.set_log_level(\"info\");\n",
       "    },\n",
       "    \n",
       "    function(Bokeh) {\n",
       "      \n",
       "    },\n",
       "    function(Bokeh) {\n",
       "      console.log(\"Bokeh: injecting CSS: https://cdn.pydata.org/bokeh/release/bokeh-1.0.4.min.css\");\n",
       "      Bokeh.embed.inject_css(\"https://cdn.pydata.org/bokeh/release/bokeh-1.0.4.min.css\");\n",
       "      console.log(\"Bokeh: injecting CSS: https://cdn.pydata.org/bokeh/release/bokeh-widgets-1.0.4.min.css\");\n",
       "      Bokeh.embed.inject_css(\"https://cdn.pydata.org/bokeh/release/bokeh-widgets-1.0.4.min.css\");\n",
       "      console.log(\"Bokeh: injecting CSS: https://cdn.pydata.org/bokeh/release/bokeh-tables-1.0.4.min.css\");\n",
       "      Bokeh.embed.inject_css(\"https://cdn.pydata.org/bokeh/release/bokeh-tables-1.0.4.min.css\");\n",
       "    }\n",
       "  ];\n",
       "\n",
       "  function run_inline_js() {\n",
       "    \n",
       "    if ((root.Bokeh !== undefined) || (force === true)) {\n",
       "      for (var i = 0; i < inline_js.length; i++) {\n",
       "        inline_js[i].call(root, root.Bokeh);\n",
       "      }if (force === true) {\n",
       "        display_loaded();\n",
       "      }} else if (Date.now() < root._bokeh_timeout) {\n",
       "      setTimeout(run_inline_js, 100);\n",
       "    } else if (!root._bokeh_failed_load) {\n",
       "      console.log(\"Bokeh: BokehJS failed to load within specified timeout.\");\n",
       "      root._bokeh_failed_load = true;\n",
       "    } else if (force !== true) {\n",
       "      var cell = $(document.getElementById(\"1001\")).parents('.cell').data().cell;\n",
       "      cell.output_area.append_execute_result(NB_LOAD_WARNING)\n",
       "    }\n",
       "\n",
       "  }\n",
       "\n",
       "  if (root._bokeh_is_loading === 0) {\n",
       "    console.log(\"Bokeh: BokehJS loaded, going straight to plotting\");\n",
       "    run_inline_js();\n",
       "  } else {\n",
       "    load_libs(js_urls, function() {\n",
       "      console.log(\"Bokeh: BokehJS plotting callback run at\", now());\n",
       "      run_inline_js();\n",
       "    });\n",
       "  }\n",
       "}(window));"
      ],
      "application/vnd.bokehjs_load.v0+json": "\n(function(root) {\n  function now() {\n    return new Date();\n  }\n\n  var force = true;\n\n  if (typeof (root._bokeh_onload_callbacks) === \"undefined\" || force === true) {\n    root._bokeh_onload_callbacks = [];\n    root._bokeh_is_loading = undefined;\n  }\n\n  \n\n  \n  if (typeof (root._bokeh_timeout) === \"undefined\" || force === true) {\n    root._bokeh_timeout = Date.now() + 5000;\n    root._bokeh_failed_load = false;\n  }\n\n  var NB_LOAD_WARNING = {'data': {'text/html':\n     \"<div style='background-color: #fdd'>\\n\"+\n     \"<p>\\n\"+\n     \"BokehJS does not appear to have successfully loaded. If loading BokehJS from CDN, this \\n\"+\n     \"may be due to a slow or bad network connection. Possible fixes:\\n\"+\n     \"</p>\\n\"+\n     \"<ul>\\n\"+\n     \"<li>re-rerun `output_notebook()` to attempt to load from CDN again, or</li>\\n\"+\n     \"<li>use INLINE resources instead, as so:</li>\\n\"+\n     \"</ul>\\n\"+\n     \"<code>\\n\"+\n     \"from bokeh.resources import INLINE\\n\"+\n     \"output_notebook(resources=INLINE)\\n\"+\n     \"</code>\\n\"+\n     \"</div>\"}};\n\n  function display_loaded() {\n    var el = document.getElementById(\"1001\");\n    if (el != null) {\n      el.textContent = \"BokehJS is loading...\";\n    }\n    if (root.Bokeh !== undefined) {\n      if (el != null) {\n        el.textContent = \"BokehJS \" + root.Bokeh.version + \" successfully loaded.\";\n      }\n    } else if (Date.now() < root._bokeh_timeout) {\n      setTimeout(display_loaded, 100)\n    }\n  }\n\n\n  function run_callbacks() {\n    try {\n      root._bokeh_onload_callbacks.forEach(function(callback) { callback() });\n    }\n    finally {\n      delete root._bokeh_onload_callbacks\n    }\n    console.info(\"Bokeh: all callbacks have finished\");\n  }\n\n  function load_libs(js_urls, callback) {\n    root._bokeh_onload_callbacks.push(callback);\n    if (root._bokeh_is_loading > 0) {\n      console.log(\"Bokeh: BokehJS is being loaded, scheduling callback at\", now());\n      return null;\n    }\n    if (js_urls == null || js_urls.length === 0) {\n      run_callbacks();\n      return null;\n    }\n    console.log(\"Bokeh: BokehJS not loaded, scheduling load and callback at\", now());\n    root._bokeh_is_loading = js_urls.length;\n    for (var i = 0; i < js_urls.length; i++) {\n      var url = js_urls[i];\n      var s = document.createElement('script');\n      s.src = url;\n      s.async = false;\n      s.onreadystatechange = s.onload = function() {\n        root._bokeh_is_loading--;\n        if (root._bokeh_is_loading === 0) {\n          console.log(\"Bokeh: all BokehJS libraries loaded\");\n          run_callbacks()\n        }\n      };\n      s.onerror = function() {\n        console.warn(\"failed to load library \" + url);\n      };\n      console.log(\"Bokeh: injecting script tag for BokehJS library: \", url);\n      document.getElementsByTagName(\"head\")[0].appendChild(s);\n    }\n  };var element = document.getElementById(\"1001\");\n  if (element == null) {\n    console.log(\"Bokeh: ERROR: autoload.js configured with elementid '1001' but no matching script tag was found. \")\n    return false;\n  }\n\n  var js_urls = [\"https://cdn.pydata.org/bokeh/release/bokeh-1.0.4.min.js\", \"https://cdn.pydata.org/bokeh/release/bokeh-widgets-1.0.4.min.js\", \"https://cdn.pydata.org/bokeh/release/bokeh-tables-1.0.4.min.js\", \"https://cdn.pydata.org/bokeh/release/bokeh-gl-1.0.4.min.js\"];\n\n  var inline_js = [\n    function(Bokeh) {\n      Bokeh.set_log_level(\"info\");\n    },\n    \n    function(Bokeh) {\n      \n    },\n    function(Bokeh) {\n      console.log(\"Bokeh: injecting CSS: https://cdn.pydata.org/bokeh/release/bokeh-1.0.4.min.css\");\n      Bokeh.embed.inject_css(\"https://cdn.pydata.org/bokeh/release/bokeh-1.0.4.min.css\");\n      console.log(\"Bokeh: injecting CSS: https://cdn.pydata.org/bokeh/release/bokeh-widgets-1.0.4.min.css\");\n      Bokeh.embed.inject_css(\"https://cdn.pydata.org/bokeh/release/bokeh-widgets-1.0.4.min.css\");\n      console.log(\"Bokeh: injecting CSS: https://cdn.pydata.org/bokeh/release/bokeh-tables-1.0.4.min.css\");\n      Bokeh.embed.inject_css(\"https://cdn.pydata.org/bokeh/release/bokeh-tables-1.0.4.min.css\");\n    }\n  ];\n\n  function run_inline_js() {\n    \n    if ((root.Bokeh !== undefined) || (force === true)) {\n      for (var i = 0; i < inline_js.length; i++) {\n        inline_js[i].call(root, root.Bokeh);\n      }if (force === true) {\n        display_loaded();\n      }} else if (Date.now() < root._bokeh_timeout) {\n      setTimeout(run_inline_js, 100);\n    } else if (!root._bokeh_failed_load) {\n      console.log(\"Bokeh: BokehJS failed to load within specified timeout.\");\n      root._bokeh_failed_load = true;\n    } else if (force !== true) {\n      var cell = $(document.getElementById(\"1001\")).parents('.cell').data().cell;\n      cell.output_area.append_execute_result(NB_LOAD_WARNING)\n    }\n\n  }\n\n  if (root._bokeh_is_loading === 0) {\n    console.log(\"Bokeh: BokehJS loaded, going straight to plotting\");\n    run_inline_js();\n  } else {\n    load_libs(js_urls, function() {\n      console.log(\"Bokeh: BokehJS plotting callback run at\", now());\n      run_inline_js();\n    });\n  }\n}(window));"
     },
     "metadata": {},
     "output_type": "display_data"
    }
   ],
   "source": [
    "import numpy as np\n",
    "from bokeh.io import output_notebook, push_notebook, show \n",
    "from bokeh.plotting import figure\n",
    "from bokeh.models import ColumnDataSource\n",
    "from bokeh.colors import RGB \n",
    "output_notebook()"
   ]
  },
  {
   "cell_type": "code",
   "execution_count": 7,
   "metadata": {
    "code_folding": [],
    "hidden": true
   },
   "outputs": [
    {
     "data": {
      "text/html": [
       "\n",
       "\n",
       "\n",
       "\n",
       "\n",
       "\n",
       "  <div class=\"bk-root\" id=\"426b685e-ece7-4855-ae24-abb4a7e3daec\" data-root-id=\"1003\"></div>\n"
      ]
     },
     "metadata": {},
     "output_type": "display_data"
    },
    {
     "data": {
      "application/javascript": [
       "(function(root) {\n",
       "  function embed_document(root) {\n",
       "    \n",
       "  var docs_json = {\"3e0f4b75-fecf-453a-be39-1f450d2cb7ed\":{\"roots\":{\"references\":[{\"attributes\":{\"below\":[{\"id\":\"1012\",\"type\":\"LinearAxis\"}],\"left\":[{\"id\":\"1017\",\"type\":\"LinearAxis\"}],\"plot_height\":300,\"plot_width\":300,\"renderers\":[{\"id\":\"1012\",\"type\":\"LinearAxis\"},{\"id\":\"1016\",\"type\":\"Grid\"},{\"id\":\"1017\",\"type\":\"LinearAxis\"},{\"id\":\"1021\",\"type\":\"Grid\"},{\"id\":\"1036\",\"type\":\"GlyphRenderer\"},{\"id\":\"1041\",\"type\":\"GlyphRenderer\"}],\"title\":{\"id\":\"1044\",\"type\":\"Title\"},\"toolbar\":{\"id\":\"1027\",\"type\":\"Toolbar\"},\"x_range\":{\"id\":\"1004\",\"type\":\"Range1d\"},\"x_scale\":{\"id\":\"1008\",\"type\":\"LinearScale\"},\"y_range\":{\"id\":\"1006\",\"type\":\"Range1d\"},\"y_scale\":{\"id\":\"1010\",\"type\":\"LinearScale\"}},\"id\":\"1003\",\"subtype\":\"Figure\",\"type\":\"Plot\"},{\"attributes\":{\"fill_alpha\":{\"value\":0.1},\"fill_color\":{\"value\":\"#1f77b4\"},\"line_alpha\":{\"value\":0.1},\"line_color\":{\"value\":\"#1f77b4\"},\"size\":{\"units\":\"screen\",\"value\":1},\"x\":{\"field\":\"x\"},\"y\":{\"field\":\"y\"}},\"id\":\"1035\",\"type\":\"Circle\"},{\"attributes\":{\"dimension\":1,\"plot\":{\"id\":\"1003\",\"subtype\":\"Figure\",\"type\":\"Plot\"},\"ticker\":{\"id\":\"1018\",\"type\":\"BasicTicker\"}},\"id\":\"1021\",\"type\":\"Grid\"},{\"attributes\":{},\"id\":\"1046\",\"type\":\"BasicTickFormatter\"},{\"attributes\":{},\"id\":\"1022\",\"type\":\"CrosshairTool\"},{\"attributes\":{},\"id\":\"1048\",\"type\":\"BasicTickFormatter\"},{\"attributes\":{\"source\":{\"id\":\"1033\",\"type\":\"ColumnDataSource\"}},\"id\":\"1037\",\"type\":\"CDSView\"},{\"attributes\":{\"callback\":null,\"data\":{\"x\":[],\"y\":[]},\"selected\":{\"id\":\"1051\",\"type\":\"Selection\"},\"selection_policy\":{\"id\":\"1052\",\"type\":\"UnionRenderers\"}},\"id\":\"1002\",\"type\":\"ColumnDataSource\"},{\"attributes\":{},\"id\":\"1049\",\"type\":\"Selection\"},{\"attributes\":{\"active_drag\":\"auto\",\"active_inspect\":\"auto\",\"active_multi\":null,\"active_scroll\":\"auto\",\"active_tap\":\"auto\",\"tools\":[{\"id\":\"1022\",\"type\":\"CrosshairTool\"},{\"id\":\"1023\",\"type\":\"PanTool\"},{\"id\":\"1024\",\"type\":\"ResetTool\"},{\"id\":\"1025\",\"type\":\"SaveTool\"},{\"id\":\"1026\",\"type\":\"WheelZoomTool\"}]},\"id\":\"1027\",\"type\":\"Toolbar\"},{\"attributes\":{},\"id\":\"1050\",\"type\":\"UnionRenderers\"},{\"attributes\":{},\"id\":\"1023\",\"type\":\"PanTool\"},{\"attributes\":{},\"id\":\"1051\",\"type\":\"Selection\"},{\"attributes\":{},\"id\":\"1024\",\"type\":\"ResetTool\"},{\"attributes\":{},\"id\":\"1052\",\"type\":\"UnionRenderers\"},{\"attributes\":{},\"id\":\"1025\",\"type\":\"SaveTool\"},{\"attributes\":{},\"id\":\"1026\",\"type\":\"WheelZoomTool\"},{\"attributes\":{\"callback\":null,\"data\":{\"x\":{\"__ndarray__\":\"DRAfXhsG5D89h57jBIbrvxonKzrfUfC/lWWnjG1g77/74OHm1JPTP4Cf2n50BfE/QZ+X6HIW7r8TS4HGjYb4P7/8v0/jBMq/60E1A9tG4D8k6Q7B68DnP+Y5FPVTovC/Y/I61fte979UPvJqcd6yv9BNPNCqlPA/OQE6fSqcvD+gGtbi4qnkv3qNcOMnEeQ/m8/clpJDxz9Bhd3NLYzWP1wFkmJqBOS/4GSgCStm8b/wm7a73tjwv1GYBHpUM5I/zmJkxrIYtj/K4Bfj2F/3P3AZ4UCEh+I/3Vc38usl6z+E8v95jh7kP07fQTBQjOE/tIFw/TOm4T9eGCMr6UHlPzIVT3PguOY/OnLHJ8UZ3b+TWZoIQKOcP/7k/7y9nfC/Rol0FL9F7z/sU/4Qj2b8P6n5Y2mab6c/BYR47Zng4z/CEE6pQNQBwAwfhtUDc/E/EUM2oMLI+D9xmSIDeZ3QP53jdi6YLO4/PSpN7ZeKtr/c+aL0cWIGwNrXaOWKTQDADjPkocbHub/37T22oQ70vyOxpOIEe8I/GI5mQ7kx6D8ujmgfd0z2P4yS+t7SO/u/q960jJSZob9ULfN2Qve2P2Aay7o5E8K/nVrleIbr9L8m8p01tE/EPzoCSraJ+vQ/0NEfsahi4z/wAJAeFnXRP9NiBxgUxPK/Bvon/uUy4r+3s3khOVi9vyxn9Bwnrec/kWPm5q/X7r/TCzgxzPfyv+GG/Zbt7+o/jDTFh5GV+z9P3x18BXDXv5IghhOZWvK/Wr744pWn67/L5Y8JQFnivwzFC1Xawdy/A/xSpAhCub/oCJyzfnPyP292dWwLnus/rGxXCNUPA0DURZ0ZCB/Qv+CYL8pJKuY/R9R6wQdazD92qbMwL/iTvzZBhqF8fug/mZCxA44f4D8hdIEYUSPev4eLhqC90NE/g8DW0QSTpz8Bq3rhzxbFPzFXCrV85OE/7LQYWp+y9z8VAGVq+nr5PykdR7Pz6Og/OnZscxKao7/IsBWgdDzfv9jl4F+U292/tGlft7u/5j/xUsnp5ePovxsEPVL/XOi/GWt4m6PR4D+HWUR2jJgTQJmWtgCCLBRAiStW6UFSFkAiec1wOIgRQGkIl00YrhZA4MeYa/WGFEAzFq8ynywWQB4wPtIzHhFAANScD/TTE0DHekA7WBkVQB4/u+kfog5AIWfaF3oqFkDdIkbDGMEYQDFy9VmjThBALUOHOYYdE0AmgqPzShoWQKLhNfp1Mw1AD+ziOb6bE0DHXlCwTGsUQE6dNToLWhlAtYpydYYJFUCU6Y7skCEYQNRWl+SlDhFAs4IPPGfPFUCUV636X64PQKKFzGq5oBhAqPH1vfnREkDP24i/dbwSQK155RD9IA9Ank95M4r9DEA2HyVpcRgaQBVIKIdIBRRANpW3qNAxDkCRKZ8D+KQRQCA1tcgKFwpAnP7V0m7IEEAniD0p1rcQQBUJw/IvmBRAGWzzkIExFEB8hIRRf10OQH6fvO1gVxFAf9IvSelYCUDmUlXe1ogQQNxW9w1wqRNAYMfVa/BqFkCVs8m9MTETQIUio+W+UBNAnCwxgKFlFEBDMfA6gd8IQDlgZ4PRLRVAQHONyszrFEA+6AGvYlkUQA5fbtBwjBhAqJ7VZSsKF0DxcTlUt0YZQMioVo6S+xVAtsrn8JMnEkADRGS44rMSQLAQdHWJJBFALkYZBDcyEEB8+nVsIz4SQO9ZfLOLYxRAtmPlFSnBBEDY2o467eQaQFxWPZa01RJAVcF0bGDoD0AMHhvZYnUYQLBU+ht7QRVAHZYQ74ZHEEDQVtIOvIQVQPIZgCbiUg5AjZ+J4JJxE0D+U42bUdcUQASh9MIe9xNAtBGaZQh6DkACnqhgXgYYQKodGHocgRNAfh90zfAPG0B6AF9hUGoWQNZVy6E30BRAAxoGqmCWEkAo0TDpFokWQBAIICyf6xRA0Q69yGkdEkASBlCm6a0TQNrfQQjdqR1ARz/PJZ35GEAFKejtwLIVQBglVnRQXxRAUbJL3uY/EUD/MPR1aeoWQKfhInSYvgtAxTuaUzhuC0AuljWN5N0OQPoJ2PohuxNAF4twIUitEECXTj7IORsRQL62IuR7shxAs+BqgClgFUD6504ua94NQA==\",\"dtype\":\"float64\",\"shape\":[200]},\"y\":{\"__ndarray__\":\"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\",\"dtype\":\"float64\",\"shape\":[200]}},\"selected\":{\"id\":\"1049\",\"type\":\"Selection\"},\"selection_policy\":{\"id\":\"1050\",\"type\":\"UnionRenderers\"}},\"id\":\"1033\",\"type\":\"ColumnDataSource\"},{\"attributes\":{\"callback\":null,\"end\":10,\"start\":-5},\"id\":\"1004\",\"type\":\"Range1d\"},{\"attributes\":{\"callback\":null,\"end\":10,\"start\":-5},\"id\":\"1006\",\"type\":\"Range1d\"},{\"attributes\":{\"data_source\":{\"id\":\"1033\",\"type\":\"ColumnDataSource\"},\"glyph\":{\"id\":\"1034\",\"type\":\"Circle\"},\"hover_glyph\":null,\"muted_glyph\":null,\"nonselection_glyph\":{\"id\":\"1035\",\"type\":\"Circle\"},\"selection_glyph\":null,\"view\":{\"id\":\"1037\",\"type\":\"CDSView\"}},\"id\":\"1036\",\"type\":\"GlyphRenderer\"},{\"attributes\":{},\"id\":\"1008\",\"type\":\"LinearScale\"},{\"attributes\":{\"fill_color\":{\"value\":\"#1f77b4\"},\"line_color\":{\"value\":\"#1f77b4\"},\"size\":{\"units\":\"screen\",\"value\":1},\"x\":{\"field\":\"x\"},\"y\":{\"field\":\"y\"}},\"id\":\"1034\",\"type\":\"Circle\"},{\"attributes\":{},\"id\":\"1010\",\"type\":\"LinearScale\"},{\"attributes\":{\"plot\":null,\"text\":\"\"},\"id\":\"1044\",\"type\":\"Title\"},{\"attributes\":{\"formatter\":{\"id\":\"1046\",\"type\":\"BasicTickFormatter\"},\"plot\":{\"id\":\"1003\",\"subtype\":\"Figure\",\"type\":\"Plot\"},\"ticker\":{\"id\":\"1013\",\"type\":\"BasicTicker\"}},\"id\":\"1012\",\"type\":\"LinearAxis\"},{\"attributes\":{\"fill_color\":{\"value\":\"#1f77b4\"},\"line_color\":{\"value\":\"#1f77b4\"},\"size\":{\"units\":\"screen\",\"value\":5},\"x\":{\"field\":\"x\"},\"y\":{\"field\":\"y\"}},\"id\":\"1039\",\"type\":\"Circle\"},{\"attributes\":{},\"id\":\"1013\",\"type\":\"BasicTicker\"},{\"attributes\":{\"fill_alpha\":{\"value\":0.1},\"fill_color\":{\"value\":\"#1f77b4\"},\"line_alpha\":{\"value\":0.1},\"line_color\":{\"value\":\"#1f77b4\"},\"size\":{\"units\":\"screen\",\"value\":5},\"x\":{\"field\":\"x\"},\"y\":{\"field\":\"y\"}},\"id\":\"1040\",\"type\":\"Circle\"},{\"attributes\":{\"plot\":{\"id\":\"1003\",\"subtype\":\"Figure\",\"type\":\"Plot\"},\"ticker\":{\"id\":\"1013\",\"type\":\"BasicTicker\"}},\"id\":\"1016\",\"type\":\"Grid\"},{\"attributes\":{\"data_source\":{\"id\":\"1002\",\"type\":\"ColumnDataSource\"},\"glyph\":{\"id\":\"1039\",\"type\":\"Circle\"},\"hover_glyph\":null,\"muted_glyph\":null,\"nonselection_glyph\":{\"id\":\"1040\",\"type\":\"Circle\"},\"selection_glyph\":null,\"view\":{\"id\":\"1042\",\"type\":\"CDSView\"}},\"id\":\"1041\",\"type\":\"GlyphRenderer\"},{\"attributes\":{\"formatter\":{\"id\":\"1048\",\"type\":\"BasicTickFormatter\"},\"plot\":{\"id\":\"1003\",\"subtype\":\"Figure\",\"type\":\"Plot\"},\"ticker\":{\"id\":\"1018\",\"type\":\"BasicTicker\"}},\"id\":\"1017\",\"type\":\"LinearAxis\"},{\"attributes\":{\"source\":{\"id\":\"1002\",\"type\":\"ColumnDataSource\"}},\"id\":\"1042\",\"type\":\"CDSView\"},{\"attributes\":{},\"id\":\"1018\",\"type\":\"BasicTicker\"}],\"root_ids\":[\"1003\"]},\"title\":\"Bokeh Application\",\"version\":\"1.0.4\"}};\n",
       "  var render_items = [{\"docid\":\"3e0f4b75-fecf-453a-be39-1f450d2cb7ed\",\"notebook_comms_target\":\"1053\",\"roots\":{\"1003\":\"426b685e-ece7-4855-ae24-abb4a7e3daec\"}}];\n",
       "  root.Bokeh.embed.embed_items_notebook(docs_json, render_items);\n",
       "\n",
       "  }\n",
       "  if (root.Bokeh !== undefined) {\n",
       "    embed_document(root);\n",
       "  } else {\n",
       "    var attempts = 0;\n",
       "    var timer = setInterval(function(root) {\n",
       "      if (root.Bokeh !== undefined) {\n",
       "        embed_document(root);\n",
       "        clearInterval(timer);\n",
       "      }\n",
       "      attempts++;\n",
       "      if (attempts > 100) {\n",
       "        console.log(\"Bokeh: ERROR: Unable to run BokehJS code because BokehJS library is missing\");\n",
       "        clearInterval(timer);\n",
       "      }\n",
       "    }, 10, root)\n",
       "  }\n",
       "})(window);"
      ],
      "application/vnd.bokehjs_exec.v0+json": ""
     },
     "metadata": {
      "application/vnd.bokehjs_exec.v0+json": {
       "id": "1003"
      }
     },
     "output_type": "display_data"
    }
   ],
   "source": [
    "# create data\n",
    "data = np.vstack((np.random.randn(100, 7), np.random.randn(100, 7)+5))\n",
    "\n",
    "# initialize plot\n",
    "source = ColumnDataSource(data=dict(x = [], y = []))\n",
    "plot = figure(plot_height=300, plot_width=300, tools=\"crosshair,pan,reset,save,wheel_zoom\",\n",
    "             x_range=[-5,10], y_range=[-5,10])\n",
    "data_plot = plot.circle(data[:,0], y = data[:,1], size=1)\n",
    "highlight_plot = plot.circle('x', 'y', source=source, size=5)\n",
    "h2 = show(plot, notebook_handle=True)"
   ]
  },
  {
   "cell_type": "code",
   "execution_count": 9,
   "metadata": {
    "code_folding": [],
    "hidden": true
   },
   "outputs": [
    {
     "name": "stdout",
     "output_type": "stream",
     "text": [
      "0.6166441440582275\n"
     ]
    }
   ],
   "source": [
    "# sonification with sc3nb\n",
    "queue = scn.TimedQueueSC(sc)\n",
    "\n",
    "def mapcol(row, stats, col, val_from, val_to):  # helper for mapping\n",
    "    return scn.linlin(row[col], stats[col, 0], stats[col, 1], val_from, val_to)\n",
    "def select(i):  #  highlight selection\n",
    "    selected[i] = True\n",
    "def unselect(i):\n",
    "    selected[i] = False \n",
    "def update_plot(xs, ys): \n",
    "    global selected\n",
    "    x = xs[selected]\n",
    "    y = ys[selected]\n",
    "    source.data = dict(x=x, y=y)\n",
    "    push_notebook(h2)\n",
    "\n",
    "# parameter mapping sonification with GUI\n",
    "tot_dur = 6  # total duration of the sonification\n",
    "max_ev_dur = 4.1  # maximal event duration\n",
    "delay = 0.5 # offset\n",
    "pre_fetch = 0.2  # time for sc bundles to be queued earlier\n",
    "\n",
    "stats = np.vstack((np.min(data, 0), np.max(data, 0))).T\n",
    "selected = np.zeros(np.shape(data)[0], np.bool)\n",
    "t0 = time.time()\n",
    "for i in np.argsort(data[:,3]):\n",
    "    r = data[i]\n",
    "    onset = t0 + delay + mapcol(r, stats, 3, 0, tot_dur)\n",
    "    freq  = scn.midicps( mapcol(r, stats, 2, 60, 90))\n",
    "    ev_dur = mapcol(r, stats, 4, 0.2, max_ev_dur)\n",
    "    # sonification\n",
    "    queue.put(onset-pre_fetch, sc.bundle, (onset, \"/s_new\", [\n",
    "        \"s1\", -1, 1, 0, \"freq\", freq, \"amp\", 0.05, \"dur\", ev_dur, \"num\", 0, \"pos\", 0]))\n",
    "    # on/off events of marker highlight\n",
    "    queue.put(onset-0.1, select, i)\n",
    "    queue.put(onset-0.1+ev_dur, unselect, i)\n",
    "\n",
    "for t in t0+delay+np.arange(0, tot_dur+ev_dur+1, 1/25):  # 1 / update rate\n",
    "    queue.put(t, update_plot, (data[:,1], data[:,2]))\n",
    "print(time.time()-t0)"
   ]
  },
  {
   "cell_type": "markdown",
   "metadata": {
    "heading_collapsed": true
   },
   "source": [
    "## TimeSeriesSon with Bokeh plot"
   ]
  },
  {
   "cell_type": "code",
   "execution_count": 44,
   "metadata": {
    "hidden": true
   },
   "outputs": [],
   "source": [
    "ts = np.arange(0, 20, 0.005)\n",
    "data = np.vstack((ts, \n",
    "                  np.sin(2.5*ts) + 0.01*ts*np.random.randn(np.shape(ts)[0]), \n",
    "                  0.08*ts[::-1]*np.cos(3.5*ts)**2)).T"
   ]
  },
  {
   "cell_type": "code",
   "execution_count": 45,
   "metadata": {
    "hidden": true
   },
   "outputs": [
    {
     "data": {
      "text/html": [
       "\n",
       "\n",
       "\n",
       "\n",
       "\n",
       "\n",
       "  <div class=\"bk-root\" id=\"70c751a2-5e1c-4f73-bae3-2245eaedad9a\" data-root-id=\"8095\"></div>\n"
      ]
     },
     "metadata": {},
     "output_type": "display_data"
    },
    {
     "data": {
      "application/javascript": [
       "(function(root) {\n",
       "  function embed_document(root) {\n",
       "    \n",
       "  var docs_json = {\"392dbd95-ad20-4dfd-af2f-a4e0ade872fd\":{\"roots\":{\"references\":[{\"attributes\":{\"below\":[{\"id\":\"8104\",\"type\":\"LinearAxis\"}],\"left\":[{\"id\":\"8109\",\"type\":\"LinearAxis\"}],\"plot_height\":150,\"renderers\":[{\"id\":\"8104\",\"type\":\"LinearAxis\"},{\"id\":\"8108\",\"type\":\"Grid\"},{\"id\":\"8109\",\"type\":\"LinearAxis\"},{\"id\":\"8113\",\"type\":\"Grid\"},{\"id\":\"8129\",\"type\":\"GlyphRenderer\"},{\"id\":\"8134\",\"type\":\"GlyphRenderer\"},{\"id\":\"8139\",\"type\":\"GlyphRenderer\"}],\"title\":{\"id\":\"8264\",\"type\":\"Title\"},\"toolbar\":{\"id\":\"8119\",\"type\":\"Toolbar\"},\"x_range\":{\"id\":\"8096\",\"type\":\"Range1d\"},\"x_scale\":{\"id\":\"8100\",\"type\":\"LinearScale\"},\"y_range\":{\"id\":\"8098\",\"type\":\"Range1d\"},\"y_scale\":{\"id\":\"8102\",\"type\":\"LinearScale\"}},\"id\":\"8095\",\"subtype\":\"Figure\",\"type\":\"Plot\"},{\"attributes\":{},\"id\":\"8110\",\"type\":\"BasicTicker\"},{\"attributes\":{\"data_source\":{\"id\":\"8126\",\"type\":\"ColumnDataSource\"},\"glyph\":{\"id\":\"8127\",\"type\":\"Line\"},\"hover_glyph\":null,\"muted_glyph\":null,\"nonselection_glyph\":{\"id\":\"8128\",\"type\":\"Line\"},\"selection_glyph\":null,\"view\":{\"id\":\"8130\",\"type\":\"CDSView\"}},\"id\":\"8129\",\"type\":\"GlyphRenderer\"},{\"attributes\":{},\"id\":\"8116\",\"type\":\"ResetTool\"},{\"attributes\":{\"plot\":null,\"text\":\"\"},\"id\":\"8264\",\"type\":\"Title\"},{\"attributes\":{},\"id\":\"8274\",\"type\":\"UnionRenderers\"},{\"attributes\":{},\"id\":\"8268\",\"type\":\"BasicTickFormatter\"},{\"attributes\":{},\"id\":\"8118\",\"type\":\"WheelZoomTool\"},{\"attributes\":{},\"id\":\"8269\",\"type\":\"Selection\"},{\"attributes\":{\"formatter\":{\"id\":\"8268\",\"type\":\"BasicTickFormatter\"},\"plot\":{\"id\":\"8095\",\"subtype\":\"Figure\",\"type\":\"Plot\"},\"ticker\":{\"id\":\"8110\",\"type\":\"BasicTicker\"}},\"id\":\"8109\",\"type\":\"LinearAxis\"},{\"attributes\":{},\"id\":\"8272\",\"type\":\"UnionRenderers\"},{\"attributes\":{\"source\":{\"id\":\"8126\",\"type\":\"ColumnDataSource\"}},\"id\":\"8130\",\"type\":\"CDSView\"},{\"attributes\":{},\"id\":\"8270\",\"type\":\"UnionRenderers\"},{\"attributes\":{},\"id\":\"8115\",\"type\":\"PanTool\"},{\"attributes\":{},\"id\":\"8273\",\"type\":\"Selection\"},{\"attributes\":{\"callback\":null,\"start\":-1},\"id\":\"8098\",\"type\":\"Range1d\"},{\"attributes\":{\"data_source\":{\"id\":\"8131\",\"type\":\"ColumnDataSource\"},\"glyph\":{\"id\":\"8132\",\"type\":\"Line\"},\"hover_glyph\":null,\"muted_glyph\":null,\"nonselection_glyph\":{\"id\":\"8133\",\"type\":\"Line\"},\"selection_glyph\":null,\"view\":{\"id\":\"8135\",\"type\":\"CDSView\"}},\"id\":\"8134\",\"type\":\"GlyphRenderer\"},{\"attributes\":{},\"id\":\"8117\",\"type\":\"SaveTool\"},{\"attributes\":{\"line_alpha\":0.1,\"line_color\":\"#1f77b4\",\"x\":{\"field\":\"x\"},\"y\":{\"field\":\"y\"}},\"id\":\"8138\",\"type\":\"Line\"},{\"attributes\":{\"line_color\":\"red\",\"x\":{\"field\":\"x\"},\"y\":{\"field\":\"y\"}},\"id\":\"8137\",\"type\":\"Line\"},{\"attributes\":{},\"id\":\"8105\",\"type\":\"BasicTicker\"},{\"attributes\":{\"callback\":null,\"data\":{\"x\":[],\"y\":[]},\"selected\":{\"id\":\"8273\",\"type\":\"Selection\"},\"selection_policy\":{\"id\":\"8274\",\"type\":\"UnionRenderers\"}},\"id\":\"8125\",\"type\":\"ColumnDataSource\"},{\"attributes\":{\"active_drag\":\"auto\",\"active_inspect\":\"auto\",\"active_multi\":null,\"active_scroll\":\"auto\",\"active_tap\":\"auto\",\"tools\":[{\"id\":\"8114\",\"type\":\"CrosshairTool\"},{\"id\":\"8115\",\"type\":\"PanTool\"},{\"id\":\"8116\",\"type\":\"ResetTool\"},{\"id\":\"8117\",\"type\":\"SaveTool\"},{\"id\":\"8118\",\"type\":\"WheelZoomTool\"}]},\"id\":\"8119\",\"type\":\"Toolbar\"},{\"attributes\":{\"source\":{\"id\":\"8125\",\"type\":\"ColumnDataSource\"}},\"id\":\"8140\",\"type\":\"CDSView\"},{\"attributes\":{},\"id\":\"8271\",\"type\":\"Selection\"},{\"attributes\":{},\"id\":\"8100\",\"type\":\"LinearScale\"},{\"attributes\":{\"callback\":null,\"data\":{\"x\":{\"__ndarray__\":\"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\",\"dtype\":\"float64\",\"shape\":[4000]},\"y\":{\"__ndarray__\":\"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\",\"dtype\":\"float64\",\"shape\":[4000]}},\"selected\":{\"id\":\"8269\",\"type\":\"Selection\"},\"selection_policy\":{\"id\":\"8270\",\"type\":\"UnionRenderers\"}},\"id\":\"8126\",\"type\":\"ColumnDataSource\"},{\"attributes\":{\"line_color\":\"green\",\"x\":{\"field\":\"x\"},\"y\":{\"field\":\"y\"}},\"id\":\"8132\",\"type\":\"Line\"},{\"attributes\":{\"line_alpha\":0.1,\"line_color\":\"#1f77b4\",\"x\":{\"field\":\"x\"},\"y\":{\"field\":\"y\"}},\"id\":\"8128\",\"type\":\"Line\"},{\"attributes\":{},\"id\":\"8266\",\"type\":\"BasicTickFormatter\"},{\"attributes\":{},\"id\":\"8102\",\"type\":\"LinearScale\"},{\"attributes\":{\"line_alpha\":0.1,\"line_color\":\"#1f77b4\",\"x\":{\"field\":\"x\"},\"y\":{\"field\":\"y\"}},\"id\":\"8133\",\"type\":\"Line\"},{\"attributes\":{\"dimension\":1,\"plot\":{\"id\":\"8095\",\"subtype\":\"Figure\",\"type\":\"Plot\"},\"ticker\":{\"id\":\"8110\",\"type\":\"BasicTicker\"}},\"id\":\"8113\",\"type\":\"Grid\"},{\"attributes\":{\"callback\":null,\"end\":20},\"id\":\"8096\",\"type\":\"Range1d\"},{\"attributes\":{\"callback\":null,\"data\":{\"x\":{\"__ndarray__\":\"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\",\"dtype\":\"float64\",\"shape\":[4000]},\"y\":{\"__ndarray__\":\"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\",\"dtype\":\"float64\",\"shape\":[4000]}},\"selected\":{\"id\":\"8271\",\"type\":\"Selection\"},\"selection_policy\":{\"id\":\"8272\",\"type\":\"UnionRenderers\"}},\"id\":\"8131\",\"type\":\"ColumnDataSource\"},{\"attributes\":{},\"id\":\"8114\",\"type\":\"CrosshairTool\"},{\"attributes\":{\"formatter\":{\"id\":\"8266\",\"type\":\"BasicTickFormatter\"},\"plot\":{\"id\":\"8095\",\"subtype\":\"Figure\",\"type\":\"Plot\"},\"ticker\":{\"id\":\"8105\",\"type\":\"BasicTicker\"}},\"id\":\"8104\",\"type\":\"LinearAxis\"},{\"attributes\":{\"data_source\":{\"id\":\"8125\",\"type\":\"ColumnDataSource\"},\"glyph\":{\"id\":\"8137\",\"type\":\"Line\"},\"hover_glyph\":null,\"muted_glyph\":null,\"nonselection_glyph\":{\"id\":\"8138\",\"type\":\"Line\"},\"selection_glyph\":null,\"view\":{\"id\":\"8140\",\"type\":\"CDSView\"}},\"id\":\"8139\",\"type\":\"GlyphRenderer\"},{\"attributes\":{\"line_color\":\"#1f77b4\",\"x\":{\"field\":\"x\"},\"y\":{\"field\":\"y\"}},\"id\":\"8127\",\"type\":\"Line\"},{\"attributes\":{\"plot\":{\"id\":\"8095\",\"subtype\":\"Figure\",\"type\":\"Plot\"},\"ticker\":{\"id\":\"8105\",\"type\":\"BasicTicker\"}},\"id\":\"8108\",\"type\":\"Grid\"},{\"attributes\":{\"source\":{\"id\":\"8131\",\"type\":\"ColumnDataSource\"}},\"id\":\"8135\",\"type\":\"CDSView\"}],\"root_ids\":[\"8095\"]},\"title\":\"Bokeh Application\",\"version\":\"1.0.4\"}};\n",
       "  var render_items = [{\"docid\":\"392dbd95-ad20-4dfd-af2f-a4e0ade872fd\",\"notebook_comms_target\":\"8275\",\"roots\":{\"8095\":\"70c751a2-5e1c-4f73-bae3-2245eaedad9a\"}}];\n",
       "  root.Bokeh.embed.embed_items_notebook(docs_json, render_items);\n",
       "\n",
       "  }\n",
       "  if (root.Bokeh !== undefined) {\n",
       "    embed_document(root);\n",
       "  } else {\n",
       "    var attempts = 0;\n",
       "    var timer = setInterval(function(root) {\n",
       "      if (root.Bokeh !== undefined) {\n",
       "        embed_document(root);\n",
       "        clearInterval(timer);\n",
       "      }\n",
       "      attempts++;\n",
       "      if (attempts > 100) {\n",
       "        console.log(\"Bokeh: ERROR: Unable to run BokehJS code because BokehJS library is missing\");\n",
       "        clearInterval(timer);\n",
       "      }\n",
       "    }, 10, root)\n",
       "  }\n",
       "})(window);"
      ],
      "application/vnd.bokehjs_exec.v0+json": ""
     },
     "metadata": {
      "application/vnd.bokehjs_exec.v0+json": {
       "id": "8095"
      }
     },
     "output_type": "display_data"
    }
   ],
   "source": [
    "plot = figure(plot_height=150, plot_width=600, tools=\"crosshair,pan,reset,save,wheel_zoom\",\n",
    "             x_range=[0,20], y_range=[-1,1])\n",
    "source = ColumnDataSource(data = dict(x=[], y=[]))\n",
    "data_plot1 = plot.line(data[:,0], y = data[:,1])\n",
    "data_plot2 = plot.line(data[:,0], y = data[:,2], color='green')\n",
    "marker_plot = plot.line('x', 'y', source=source, color='red')\n",
    "h2 = show(plot, notebook_handle=True)"
   ]
  },
  {
   "cell_type": "code",
   "execution_count": 47,
   "metadata": {
    "code_folding": [],
    "hidden": true
   },
   "outputs": [
    {
     "name": "stdout",
     "output_type": "stream",
     "text": [
      "0.0423121452331543\n"
     ]
    }
   ],
   "source": [
    "# create the queue\n",
    "queue = scn.TimedQueueSC(sc)\n",
    "\n",
    "def mapcol(row, stats, col, val_from, val_to):  # helper for mapping\n",
    "    return scn.linlin(row[col], stats[col, 0], stats[col, 1], val_from, val_to)\n",
    "\n",
    "def update_plot(t): \n",
    "    global fig, ax, pldata, plmarked, selected\n",
    "    source.data = dict(x=[t,t], y=[-1,1])\n",
    "    push_notebook(h2)\n",
    "\n",
    "stats = np.vstack((np.min(data, 0), np.max(data, 0))).T\n",
    "selected = np.zeros(np.shape(data)[0], np.bool)\n",
    "\n",
    "# parameter mapping sonification with GUI\n",
    "delay = 0.5\n",
    "rate = 2\n",
    "\n",
    "t0 = time.time()\n",
    "queue.put(t0, sc.msg, (\"/s_new\", [\"s2\", 1200, 1, 0, \"amp\", 0]))\n",
    "queue.put(t0, sc.msg, (\"/s_new\", [\"s2\", 1201, 1, 0, \"amp\", 0]))\n",
    "\n",
    "max_onset = 0\n",
    "latest_gui_onset = 0\n",
    "\n",
    "ts = []\n",
    "for i, r in enumerate(data[::2, :]):\n",
    "    ts.append(time.time()-t0)\n",
    "    if i==0: tmin = r[0]\n",
    "    onset = (r[0]-tmin)/rate\n",
    "    freq   = scn.midicps( mapcol(r, stats, 1, 60, 70))\n",
    "    freqR  = scn.midicps( mapcol(r, stats, 2, 60, 70))\n",
    "    # sonification\n",
    "    tt = t0 + delay + onset\n",
    "    if tt > max_onset: max_onset = tt\n",
    "    queue.put(tt-0.1, sc.bundle, (tt, \"/n_set\", \n",
    "        [1200, \"freq\", freq, \"num\", 4, \"amp\", 0.2, \"pan\", -1, \"lg\", 0]))\n",
    "    queue.put(tt-0.1, sc.bundle, (tt, \"/n_set\", \n",
    "        [1201, \"freq\", freqR, \"num\", 1, \"amp\", 0.1, \"pan\", 1]))\n",
    "    if tt > latest_gui_onset + 0.02:  # not more than 20 Hz gui update\n",
    "        latest_gui_onset = tt\n",
    "        queue.put(tt-0.1, update_plot, (r[0],), spawn=False)\n",
    "queue.put(max_onset, sc.msg, (\"/n_free\", 1200))\n",
    "queue.put(max_onset, sc.msg, (\"/n_free\", 1201))\n",
    "              \n",
    "# queue.join()\n",
    "print(time.time()-t0)"
   ]
  },
  {
   "cell_type": "code",
   "execution_count": null,
   "metadata": {
    "hidden": true
   },
   "outputs": [],
   "source": []
  }
 ],
 "metadata": {
  "kernelspec": {
   "display_name": "Python 3",
   "language": "python",
   "name": "python3"
  },
  "language_info": {
   "codemirror_mode": {
    "name": "ipython",
    "version": 3
   },
   "file_extension": ".py",
   "mimetype": "text/x-python",
   "name": "python",
   "nbconvert_exporter": "python",
   "pygments_lexer": "ipython3",
   "version": "3.6.8"
  }
 },
 "nbformat": 4,
 "nbformat_minor": 2
}

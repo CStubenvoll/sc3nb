{
 "cells": [
  {
   "cell_type": "markdown",
   "metadata": {},
   "source": [
    "# sc3nb – SuperCollider3 for python / jupyter notebooks\n",
    "(c) 2018-19 by Thomas Hermann, Ferdinand Schlatt"
   ]
  },
  {
   "cell_type": "markdown",
   "metadata": {
    "heading_collapsed": true
   },
   "source": [
    "## Introduction"
   ]
  },
  {
   "cell_type": "markdown",
   "metadata": {
    "hidden": true
   },
   "source": [
    "sc3nb is a python module to enable interaction with and control of SuperCollider3 sound programming language, both sclang and scsynth, from python, and specifically from ipython notebooks resp. jupyter notebooks.\n",
    "\n",
    "The motivation is to facilitate the programming of auditory displays and interactive sonifications by teaming up python (and particularly numpy, scipy, pandas, matplotlib etc.) for data science and SuperCollider3 for interactive real-time sound rendering.\n",
    "\n",
    "sc3nb so far enables basic control of supercollider both via OSC messages/bundles, and via commands send via PIPE to sclang that runs as a subprocess. Some features are rudimentary and less tested, and need extensions. It is meant to grow into a backend for the sonification package PySon, and can be used both from jupyter and in standard python software development.\n",
    "\n",
    "sc3nb is hosted at GitHub https://github.com/thomas-hermann/sc3nb"
   ]
  },
  {
   "cell_type": "markdown",
   "metadata": {
    "heading_collapsed": true
   },
   "source": [
    "## Getting Started"
   ]
  },
  {
   "cell_type": "code",
   "execution_count": null,
   "metadata": {
    "hidden": true
   },
   "outputs": [],
   "source": [
    "# setup, heading\n",
    "import numpy as np\n",
    "import time, random, os\n",
    "import sc3nb as scn\n",
    "\n",
    "# if sclang is not in your path, either append it via\n",
    "os.environ[\"PATH\"] += os.pathsep + '/Applications/SuperCollider-3.9/SuperCollider.app/Contents/MacOS'\n",
    "# or use scn.startup(sclangpath=\"[/path/to/sclang-containing-dir]\"))"
   ]
  },
  {
   "cell_type": "markdown",
   "metadata": {
    "hidden": true
   },
   "source": [
    "To startup SuperCollider3 (sclang, which in turn boots the scsynths) use"
   ]
  },
  {
   "cell_type": "code",
   "execution_count": null,
   "metadata": {
    "hidden": true
   },
   "outputs": [],
   "source": [
    "sc = scn.startup()  # startup sc3 sclang, boot server, load "
   ]
  },
  {
   "cell_type": "markdown",
   "metadata": {
    "hidden": true
   },
   "source": [
    "* sclang is started as subprocess and its output is collected from the SC class. \n",
    "* If sclang executable is not in $PATH, you can specify it by sclangpath=\"/path/to/sclang-containing-dir/sclang\""
   ]
  },
  {
   "cell_type": "markdown",
   "metadata": {
    "hidden": true
   },
   "source": [
    "You can see what remained unread on startup by "
   ]
  },
  {
   "cell_type": "code",
   "execution_count": null,
   "metadata": {
    "hidden": true,
    "scrolled": true
   },
   "outputs": [],
   "source": [
    "sc.cmdv(\"0\", discard_output=False)"
   ]
  },
  {
   "cell_type": "markdown",
   "metadata": {
    "hidden": true
   },
   "source": [
    "To de/activate logging on the jupyter console (resp. stdout) use"
   ]
  },
  {
   "cell_type": "code",
   "execution_count": null,
   "metadata": {
    "hidden": true
   },
   "outputs": [],
   "source": [
    "# control your console logging as needed\n",
    "scn.SC.console_logging = True"
   ]
  },
  {
   "cell_type": "markdown",
   "metadata": {
    "heading_collapsed": true
   },
   "source": [
    "## sclang command execution"
   ]
  },
  {
   "cell_type": "markdown",
   "metadata": {
    "hidden": true
   },
   "source": [
    "To send sc3 commands (i.e. program strings) to the language, either use the functions\n",
    "* **cmd()**: non verbose\n",
    "* **cmdv()**: verbose, i.e. returning string is collected and output to notebook\n",
    "* **cmdg()**: send program and get and parse the output\n",
    "\n",
    "or use the corresponding \n",
    "* Jupyter line magics **%sc, %scv, %scg**\n",
    "* Jupyter cell magics **%%sc, %%scv, %%scg**\n",
    "which wrap the above functions. See examples below"
   ]
  },
  {
   "cell_type": "code",
   "execution_count": null,
   "metadata": {
    "code_folding": [],
    "hidden": true
   },
   "outputs": [],
   "source": [
    "# sc.cmd(cmdstr, pyvars)\n",
    "sc.cmd('\"hello\".postln')  # check jupyter console for output"
   ]
  },
  {
   "cell_type": "markdown",
   "metadata": {
    "hidden": true
   },
   "source": [
    "This can be more conveniently written as"
   ]
  },
  {
   "cell_type": "code",
   "execution_count": null,
   "metadata": {
    "hidden": true
   },
   "outputs": [],
   "source": [
    "%sc \"sc3nb\".postln  // output on console"
   ]
  },
  {
   "cell_type": "markdown",
   "metadata": {
    "hidden": true
   },
   "source": [
    "Cell magics can be placed within code as shown here:"
   ]
  },
  {
   "cell_type": "code",
   "execution_count": null,
   "metadata": {
    "hidden": true
   },
   "outputs": [],
   "source": [
    "%sc x = Synth.new(\\default, [\\freq, 100])\n",
    "for p in range(1, 10):  # a bouncing ball\n",
    "    time.sleep(1/p)\n",
    "    %sc Synth.new(\\s1, [\\freq, 200])  // this is sc cell so use sc3 comments instead of #\n",
    "%sc x.free"
   ]
  },
  {
   "cell_type": "markdown",
   "metadata": {
    "hidden": true
   },
   "source": [
    "use cmdv If sclang output should be displayed as cell output"
   ]
  },
  {
   "cell_type": "code",
   "execution_count": null,
   "metadata": {
    "code_folding": [],
    "hidden": true
   },
   "outputs": [],
   "source": [
    "sc.cmdv('Synth.new(\\default)')  # a tone should play"
   ]
  },
  {
   "cell_type": "markdown",
   "metadata": {
    "hidden": true
   },
   "source": [
    "* to stop all playing synths either use CMD-. (in Jupyter Command mode).\n",
    "* It is a shortcut for"
   ]
  },
  {
   "cell_type": "code",
   "execution_count": null,
   "metadata": {
    "hidden": true
   },
   "outputs": [],
   "source": [
    "sc.cmd('s.freeAll')"
   ]
  },
  {
   "cell_type": "markdown",
   "metadata": {
    "hidden": true
   },
   "source": [
    "which is also available via"
   ]
  },
  {
   "cell_type": "code",
   "execution_count": null,
   "metadata": {
    "hidden": true
   },
   "outputs": [],
   "source": [
    "sc.free_all()"
   ]
  },
  {
   "cell_type": "markdown",
   "metadata": {
    "hidden": true
   },
   "source": [
    "Use raw python strings for multiline sc3-programs:"
   ]
  },
  {
   "cell_type": "code",
   "execution_count": null,
   "metadata": {
    "hidden": true
   },
   "outputs": [],
   "source": [
    "sc.cmd(r\"\"\"\n",
    "Routine({\n",
    "    x = 10.collect{ |i|\n",
    "        0.2.wait;\n",
    "        Synth.new(\\default, [\\freq, 50+(50*i)]);\n",
    "    };\n",
    "    2.wait;\n",
    "    x.do{|e| \n",
    "        e.release;\n",
    "        0.1.wait;};\n",
    "}).play;\n",
    "\"\"\")"
   ]
  },
  {
   "cell_type": "markdown",
   "metadata": {
    "hidden": true
   },
   "source": [
    "Python variables can be injected into sc3 commands by using the ^ special: The following examples demonstrates it by setting frequencies by using python variables"
   ]
  },
  {
   "cell_type": "code",
   "execution_count": null,
   "metadata": {
    "hidden": true
   },
   "outputs": [],
   "source": [
    "for p in range(1, 50):  # a tone ladder\n",
    "    freq = 50 + p*3\n",
    "    dur = np.log(p)\n",
    "    position = np.sign(p-25)\n",
    "    %sc Synth.new(\\s1, [\\freq, ^freq, \\dur, ^dur, \\pan, ^position])\n",
    "    time.sleep(0.05)"
   ]
  },
  {
   "cell_type": "markdown",
   "metadata": {
    "hidden": true
   },
   "source": [
    "This works only for simple variable types (TODO: describe, test, extend)."
   ]
  },
  {
   "cell_type": "markdown",
   "metadata": {
    "hidden": true
   },
   "source": [
    "The same can be achieved by using the cmd|cmdv|cmdg() functions by providing a dictionary of variable names and content (which can use other python vars or statements"
   ]
  },
  {
   "cell_type": "code",
   "execution_count": null,
   "metadata": {
    "hidden": true
   },
   "outputs": [],
   "source": [
    "a = 15\n",
    "sc.cmdv(\"^name1 + ^name2\", pyvars={'name1': a+9,'name2': 18})"
   ]
  },
  {
   "cell_type": "markdown",
   "metadata": {
    "hidden": true
   },
   "source": [
    "TODO: Beispiel für var names direkt"
   ]
  },
  {
   "cell_type": "markdown",
   "metadata": {
    "hidden": true
   },
   "source": [
    "**Getting SC output to python**\n",
    "\n",
    "* To get the output of an sc program into a python variable, use the cmdg function.\n",
    "* The following example shows how to transfer a synth's nodeID"
   ]
  },
  {
   "cell_type": "code",
   "execution_count": null,
   "metadata": {
    "hidden": true
   },
   "outputs": [],
   "source": [
    "sc.cmd(r\"\"\"x = Synth.new(\\default)\"\"\")"
   ]
  },
  {
   "cell_type": "code",
   "execution_count": null,
   "metadata": {
    "hidden": true
   },
   "outputs": [],
   "source": [
    "nodeID = sc.cmdg(\"x.nodeID\")  # get the nodeId to python\n",
    "print(nodeID)"
   ]
  },
  {
   "cell_type": "code",
   "execution_count": null,
   "metadata": {
    "hidden": true
   },
   "outputs": [],
   "source": [
    "sc.msg(\"/n_free\", nodeID)  # here the nodeID is used to free the instance via scsynth"
   ]
  },
  {
   "cell_type": "markdown",
   "metadata": {
    "hidden": true
   },
   "source": [
    "**BUG:above code does not deliver the latest value, queueing?**"
   ]
  },
  {
   "cell_type": "markdown",
   "metadata": {
    "heading_collapsed": true
   },
   "source": [
    "## Cell magics"
   ]
  },
  {
   "cell_type": "code",
   "execution_count": null,
   "metadata": {
    "hidden": true
   },
   "outputs": [],
   "source": [
    "%sc {SinOsc.ar(MouseX.kr(200,400))}.play  // move mouse horizontally, CMD-. to stop"
   ]
  },
  {
   "cell_type": "code",
   "execution_count": null,
   "metadata": {
    "hidden": true
   },
   "outputs": [],
   "source": [
    "value = %scg 75-25\n",
    "print(\"value = \", value)"
   ]
  },
  {
   "cell_type": "markdown",
   "metadata": {
    "hidden": true
   },
   "source": [
    "**BUG: old stuff sits and is returned as value - howto discard???**"
   ]
  },
  {
   "cell_type": "code",
   "execution_count": null,
   "metadata": {
    "hidden": true
   },
   "outputs": [],
   "source": [
    "%%sc\n",
    "{\n",
    "    x = Synth.new(\\s2, [\\freq, 100, \\num, 1]);\n",
    "    500.do{|i|\n",
    "        x.set(\\freq, sin(0.2*i.pow(1.5))*100 + 200);\n",
    "        0.02.wait;\n",
    "    };\n",
    "    x.free;\n",
    "}.fork"
   ]
  },
  {
   "cell_type": "markdown",
   "metadata": {
    "hidden": true
   },
   "source": [
    "* Try %scv and %%scv for verbose line resp. cells\n",
    "* Try %scg and %%scg for getter line resp. cells"
   ]
  },
  {
   "cell_type": "markdown",
   "metadata": {
    "heading_collapsed": true
   },
   "source": [
    "## exit - startup - boot - delete"
   ]
  },
  {
   "cell_type": "code",
   "execution_count": null,
   "metadata": {
    "hidden": true
   },
   "outputs": [],
   "source": [
    "sc.exit()  # shuts down the server and closes the sclang subprocess"
   ]
  },
  {
   "cell_type": "code",
   "execution_count": null,
   "metadata": {
    "hidden": true
   },
   "outputs": [],
   "source": [
    "sc = scn.startup()"
   ]
  },
  {
   "cell_type": "markdown",
   "metadata": {
    "hidden": true
   },
   "source": [
    "* The server can be booted with sc.boot().\n",
    "* This is normally not necessary as it happens automatically with startup()\n",
    "* However, if the server would be down, e.g. after a s.quit, it can be booted in this way. Compared to an sc.cmd(\"s.boot\"), the sc.boot() waits until booting as completed."
   ]
  },
  {
   "cell_type": "code",
   "execution_count": null,
   "metadata": {
    "code_folding": [],
    "hidden": true
   },
   "outputs": [],
   "source": [
    "%sc s.quit  // let us quit the server first"
   ]
  },
  {
   "cell_type": "code",
   "execution_count": null,
   "metadata": {
    "code_folding": [],
    "hidden": true
   },
   "outputs": [],
   "source": [
    "sc.boot_with_blip()"
   ]
  },
  {
   "cell_type": "markdown",
   "metadata": {
    "code_folding": [],
    "hidden": true
   },
   "source": [
    "boots the server. This is not needed generally as it happens with startup() automatically"
   ]
  },
  {
   "cell_type": "markdown",
   "metadata": {
    "code_folding": [],
    "hidden": true
   },
   "source": [
    "sc.boot_with_blip() is a special boot function that executes some custom code when booted. It is by default executed on scn.startup(). \n",
    "\n",
    "It creates\n",
    "* a synthdef \"s1\" is created which is a discrete sound event with parameters \n",
    "    * frequency freq\n",
    "    * duration dur\n",
    "    * attack time att\n",
    "    * amplitude amp\n",
    "    * number of harmonics num\n",
    "    * spatial panning pan\n",
    "* synthdef \"s2\" is created which is a continuous synth with parameters\n",
    "    * frequency freq\n",
    "    * amplitude amp\n",
    "    * number of harmonics num\n",
    "    * spatial panning pan\n",
    "* a synthdef \"record\" is created with parameter bufnum (buffer number), which simply records audio input to a buffer\n",
    "* finally, two test tones, one with \"s1\", one with \"s2\" are created, which should relax any tensions whether sc is up and running.\n"
   ]
  },
  {
   "cell_type": "code",
   "execution_count": null,
   "metadata": {
    "hidden": true
   },
   "outputs": [],
   "source": [
    "# del(sc) --> shouldn't do it, or?\n",
    "# __s_quit() --> just a private function"
   ]
  },
  {
   "cell_type": "markdown",
   "metadata": {
    "heading_collapsed": true
   },
   "source": [
    "## scsynth control"
   ]
  },
  {
   "cell_type": "markdown",
   "metadata": {
    "hidden": true
   },
   "source": [
    "* Communication with scsynth is done via OSC using the cross-platform package python-osc.\n",
    "* Direct control of synths shortcuts a detour via sclang and is both more efficient and promises a lower latency, however, at the cost of less convenience.\n",
    "* The basic wrapper for OSC messages, both to scsynth and sclang is "
   ]
  },
  {
   "cell_type": "raw",
   "metadata": {
    "code_folding": [],
    "hidden": true,
    "hide_input": false
   },
   "source": [
    "sc.msg(msg_addr, msg_args, sclang=False)"
   ]
  },
  {
   "cell_type": "markdown",
   "metadata": {
    "hidden": true
   },
   "source": [
    "* By default, it sends messages to scsynth, but with sclang=True messages can be sent to sclangs OSC port."
   ]
  },
  {
   "cell_type": "code",
   "execution_count": null,
   "metadata": {
    "code_folding": [],
    "hidden": true
   },
   "outputs": [],
   "source": [
    "sc.msg(\"/s_new\", [\"s1\", 1001, 1, 0, \"freq\", 300])  # a short 300 Hz tone"
   ]
  },
  {
   "cell_type": "markdown",
   "metadata": {
    "hidden": true
   },
   "source": [
    "* note that you have to specify the nodeID (here 1001), possibly without knowing whether that nodeID is free. If it is not, the node could not be created.\n",
    "* using nodeID -1 will let scsynth automatically select a free nodeID, however, so far there is no communication channel to receive this number from scsynth"
   ]
  },
  {
   "cell_type": "code",
   "execution_count": null,
   "metadata": {
    "hidden": true,
    "slideshow": {
     "slide_type": "slide"
    }
   },
   "outputs": [],
   "source": [
    "# a more complex example\n",
    "for p in [0,2,4,7,5,5,9,7,7,12,11,12,7,4,0,2,4,5,7,9,7,5,4,2,4,0,-1,0,2,-5,-1,2,5,4,2,4]:\n",
    "    freq = scn.midicps(48+p)  # see helper fns below\n",
    "    sc.msg(\"/s_new\", [\"s1\", -1, 1, 0, \"freq\", freq, \"dur\", 0.5, \"num\", 1])  # a short 300 Hz tone\n",
    "    time.sleep(0.35)"
   ]
  },
  {
   "cell_type": "markdown",
   "metadata": {
    "hidden": true
   },
   "source": [
    "* Note that the timing is here under python's control, which is not very precise.\n",
    "* Bundles allow to specify a timetag and thus let scsynth control the timing, which is much better, if applicable. Bundles can be sent by"
   ]
  },
  {
   "cell_type": "raw",
   "metadata": {
    "code_folding": [],
    "hidden": true,
    "slideshow": {
     "slide_type": ""
    }
   },
   "source": [
    "sc.bundle(timetag, msg_addr, msg_args=None, sclang=False)"
   ]
  },
  {
   "cell_type": "code",
   "execution_count": null,
   "metadata": {
    "hidden": true
   },
   "outputs": [],
   "source": [
    "sc.bundle(2.2, \"/s_new\", [\"s1\", -1, 1, 0, \"freq\", 200, \"dur\", 1])  # a tone starts in 2.2s\n",
    "sc.bundle(2.7, \"/s_new\", [\"s1\", -1, 1, 0, \"freq\", 300, \"dur\", 1])  # a tone starts in 2.7s"
   ]
  },
  {
   "cell_type": "markdown",
   "metadata": {
    "hidden": true
   },
   "source": [
    "* small numbers are times in seconds relative to time.time() evaluated at fn execution\n",
    "* use time.time()+timeoffset to specify in absolute times (see next example)"
   ]
  },
  {
   "cell_type": "code",
   "execution_count": null,
   "metadata": {
    "hidden": true
   },
   "outputs": [],
   "source": [
    "t0 = time.time()\n",
    "for i, r in enumerate(np.random.randn(200)):\n",
    "    onset = t0 + 2 + r\n",
    "    freq = 500 + 5 * i\n",
    "    sc.bundle(onset, \"/s_new\", [\"s1\", -1, 1, 0, \n",
    "                                \"freq\", freq, \"dur\", 1.5, \"num\", abs(r)+1]) "
   ]
  },
  {
   "cell_type": "markdown",
   "metadata": {
    "hidden": true
   },
   "source": [
    "**Remarks**:\n",
    "* note that the python code returns immediately and all events remain in scsynth\n",
    "* note that unfortunately scsynth has a limited buffer for OSC messages, so it is not viable to spawn thousends of events. scsynth will then simply reject OSC messages.\n",
    "* this motivated (and is solved) with a TimedQueue, see below."
   ]
  },
  {
   "cell_type": "markdown",
   "metadata": {
    "heading_collapsed": true
   },
   "source": [
    "## Recording sc3 output into file with scsynth"
   ]
  },
  {
   "cell_type": "markdown",
   "metadata": {
    "hidden": true
   },
   "source": [
    "The following three functions provide a simple interface using direct msgs to scsynth to record any sc3 output into an audio file"
   ]
  },
  {
   "cell_type": "raw",
   "metadata": {
    "code_folding": [],
    "hidden": true
   },
   "source": [
    "prepare_for_record(onset=0, wavpath=\"record.wav\", bufnum=99, \n",
    "                   nr_channels=2, rec_header=\"wav\", rec_format=\"int16\")"
   ]
  },
  {
   "cell_type": "raw",
   "metadata": {
    "code_folding": [],
    "hidden": true
   },
   "source": [
    "record(onset=0, node_id=2001)"
   ]
  },
  {
   "cell_type": "raw",
   "metadata": {
    "code_folding": [],
    "hidden": true
   },
   "source": [
    "stop_recording(onset=0)"
   ]
  },
  {
   "cell_type": "code",
   "execution_count": null,
   "metadata": {
    "hidden": true
   },
   "outputs": [],
   "source": [
    "# open a oscilloscope and synth that plays back lp filtered microphone signal\n",
    "%sc {LPF.ar(SoundIn.ar(0), 1500, 1)}.scope  "
   ]
  },
  {
   "cell_type": "code",
   "execution_count": null,
   "metadata": {
    "hidden": true
   },
   "outputs": [],
   "source": [
    "sc.prepare_for_record(0, \"my_recording.wav\", 99, 2, \"wav\", \"int16\")  # buffer 99 will be used\n",
    "t0 = time.time()\n",
    "sc.record(t0+0.1, 2001)  # recording starts in 200 ms\n",
    "sc.bundle(0.2, \"/s_new\", [\"s1\", -1, 1, 1, \"freq\", 200, \"dur\", 1])  \n",
    "sc.bundle(0.5, \"/s_new\", [\"s1\", -1, 1, 1, \"freq\", 300, \"dur\", 1])\n",
    "sc.stop_recording(t0+2.0) # and stops in 1 seconds"
   ]
  },
  {
   "cell_type": "markdown",
   "metadata": {
    "hidden": true
   },
   "source": [
    "* note that the sorting in scsynth node tree is with 'at begin' rule\n",
    "* otherwise the rendered tones would be rendered after the outbus was written to file\n",
    "* resulting in an empty file.\n",
    "* however, any whistling recorded via the microphone should be in the file.\n",
    "* the file appear in the same folder as this .ipynb file."
   ]
  },
  {
   "cell_type": "markdown",
   "metadata": {
    "heading_collapsed": true
   },
   "source": [
    "## MIDI interface"
   ]
  },
  {
   "cell_type": "code",
   "execution_count": null,
   "metadata": {
    "code_folding": [],
    "hidden": true
   },
   "outputs": [],
   "source": [
    "midi_ctrl_synth(self, synthname='\\\\syn')"
   ]
  },
  {
   "cell_type": "code",
   "execution_count": null,
   "metadata": {
    "code_folding": [],
    "hidden": true
   },
   "outputs": [],
   "source": [
    "midi_ctrl_free(self)"
   ]
  },
  {
   "cell_type": "code",
   "execution_count": null,
   "metadata": {
    "code_folding": [],
    "hidden": true
   },
   "outputs": [],
   "source": [
    "midi_gate_synth(self, synthname='\\\\syn')"
   ]
  },
  {
   "cell_type": "code",
   "execution_count": null,
   "metadata": {
    "code_folding": [],
    "hidden": true
   },
   "outputs": [],
   "source": [
    "midi_gate_free(self)"
   ]
  },
  {
   "cell_type": "markdown",
   "metadata": {
    "code_folding": [],
    "heading_collapsed": true
   },
   "source": [
    "## Helper functions"
   ]
  },
  {
   "cell_type": "markdown",
   "metadata": {
    "hidden": true
   },
   "source": [
    "* SuperCollider coders are familiar and frequently use a number of useful converter functions\n",
    "* the helper functions provide pythonic pendants namely currently for (to be extended):"
   ]
  },
  {
   "cell_type": "raw",
   "metadata": {
    "code_folding": [],
    "hidden": true
   },
   "source": [
    "linlin(x, smi, sma, dmi, dma)"
   ]
  },
  {
   "cell_type": "markdown",
   "metadata": {
    "code_folding": [],
    "hidden": true
   },
   "source": [
    "* to linearly map x from between [smi, sma] to [dmi, dma]\n",
    "* non range check is done, and no clipping.\n",
    "* for negative slope mapping, simply swap dmi and dma"
   ]
  },
  {
   "cell_type": "code",
   "execution_count": null,
   "metadata": {
    "hidden": true
   },
   "outputs": [],
   "source": [
    "%matplotlib inline"
   ]
  },
  {
   "cell_type": "code",
   "execution_count": null,
   "metadata": {
    "hidden": true
   },
   "outputs": [],
   "source": [
    "xs = np.linspace(1,9,100)\n",
    "plt.plot(xs, [scn.linlin(x, 0, 10, 300, 500) for x in xs])\n",
    "plt.axis([0,10,300,500]);"
   ]
  },
  {
   "cell_type": "code",
   "execution_count": null,
   "metadata": {
    "code_folding": [],
    "hidden": true
   },
   "outputs": [],
   "source": [
    "scn.midicps(69.2)  # convert MIDI note to cycles per second (cps) in [Hz]"
   ]
  },
  {
   "cell_type": "code",
   "execution_count": null,
   "metadata": {
    "code_folding": [],
    "hidden": true
   },
   "outputs": [],
   "source": [
    "scn.cpsmidi(440)   # and back to MIDI note (in float resolution)"
   ]
  },
  {
   "cell_type": "raw",
   "metadata": {
    "code_folding": [],
    "hidden": true
   },
   "source": [
    "scn.clip(value, minimum=-float(\"inf\"), maximum=float(\"inf\"))"
   ]
  },
  {
   "cell_type": "code",
   "execution_count": null,
   "metadata": {
    "hidden": true
   },
   "outputs": [],
   "source": [
    "xs = np.linspace(1,9,100)\n",
    "plt.plot([scn.clip(x, 5, 7) for x in xs]);"
   ]
  },
  {
   "cell_type": "code",
   "execution_count": null,
   "metadata": {
    "code_folding": [],
    "hidden": true
   },
   "outputs": [],
   "source": [
    "# dbamp(db) converts dB value in amplitude, 0 dB = 1, '*2' \\approx +6dB\n",
    "dbs = np.linspace(-20, 20)\n",
    "plt.plot(dbs, [scn.dbamp(d) for d in dbs]);\n",
    "# plt.semilogy()"
   ]
  },
  {
   "cell_type": "code",
   "execution_count": null,
   "metadata": {
    "code_folding": [],
    "hidden": true
   },
   "outputs": [],
   "source": [
    "# ampdb(amp) converts an amplitude to dB, assuming 0dB=1\n",
    "scn.ampdb(0.2)"
   ]
  },
  {
   "cell_type": "markdown",
   "metadata": {
    "code_folding": [],
    "hidden": true
   },
   "source": [
    "**TODO: move play() and record() to a pya**"
   ]
  },
  {
   "cell_type": "markdown",
   "metadata": {
    "heading_collapsed": true
   },
   "source": [
    "## Creating an OSC responder and msg to sclang for synthesis"
   ]
  },
  {
   "cell_type": "code",
   "execution_count": null,
   "metadata": {
    "hidden": true
   },
   "outputs": [],
   "source": [
    "%%scv\n",
    "OSCdef(\\dinger, { | msg, time, addr, recvPort |\n",
    "    var freq = msg[2];\n",
    "    // msg.postln;\n",
    "    {Pulse.ar(freq, 0.04, 0.3)!2 * EnvGen.ar(Env.perc, doneAction:2)}.play\n",
    "}, '/ding')"
   ]
  },
  {
   "cell_type": "code",
   "execution_count": null,
   "metadata": {
    "hidden": true
   },
   "outputs": [],
   "source": [
    "for i in range(100):\n",
    "    sc.msg(\"/ding\", [\"freq\", 1000-5*i], sclang=True)"
   ]
  },
  {
   "cell_type": "code",
   "execution_count": null,
   "metadata": {
    "hidden": true
   },
   "outputs": [],
   "source": [
    "%sc OSCdef.freeAll()"
   ]
  },
  {
   "cell_type": "markdown",
   "metadata": {
    "heading_collapsed": true
   },
   "source": [
    "## TimedQueue Basics"
   ]
  },
  {
   "cell_type": "markdown",
   "metadata": {
    "hidden": true
   },
   "source": [
    "Motivation:\n",
    "* for sonifications with precise timing, thousends of events need to be spawn at the exact time.\n",
    "* doing this with bundles doesn't work as the OSC buffer of scsynth is limited\n",
    "* it needs a TimedQueue where events can be added for time-precise dispatching\n",
    "* a thread then simply checks what items are due and executes them\n",
    "* using arbitrary functions as objects for the queue allows to use it both for sonification (e.g. sending OSC messages/bundles) and even visualization\n",
    "* however, the functions should complete really quickly as otherwise the queue would run late and fail to process due events\n",
    "* hence, it is the responsibility of the user to be careful\n",
    "* if, however, longer programs are needed, they can be spawn as threads on execution\n",
    "* The following demos illustrate the core functionality with console print and sound"
   ]
  },
  {
   "cell_type": "code",
   "execution_count": null,
   "metadata": {
    "hidden": true
   },
   "outputs": [],
   "source": [
    "queue = scn.TimedQueue()"
   ]
  },
  {
   "cell_type": "code",
   "execution_count": null,
   "metadata": {
    "hidden": true
   },
   "outputs": [],
   "source": [
    "import sys\n",
    "def myfun(x):\n",
    "    os.write(1, \"{}\\n\".format(x).encode())\n",
    "    sys.stderr.flush()\n",
    "    \n",
    "def myblip(freq):\n",
    "    sc.msg(\"/s_new\", [\"s1\", -1, 1, 0, \"freq\", freq, \"num\", 3])"
   ]
  },
  {
   "cell_type": "code",
   "execution_count": null,
   "metadata": {
    "hidden": true
   },
   "outputs": [],
   "source": [
    "myfun(4)"
   ]
  },
  {
   "cell_type": "code",
   "execution_count": null,
   "metadata": {
    "hidden": true
   },
   "outputs": [],
   "source": [
    "myblip(300)"
   ]
  },
  {
   "cell_type": "code",
   "execution_count": null,
   "metadata": {
    "hidden": true
   },
   "outputs": [],
   "source": [
    "t0 = time.time()\n",
    "for i in range(50):\n",
    "    queue.put(t0+i*0.04, myblip, 400-1*7*i)\n",
    "    queue.put(t0+i*0.04, myfun,  400+30*i)"
   ]
  },
  {
   "cell_type": "markdown",
   "metadata": {
    "heading_collapsed": true
   },
   "source": [
    "## TimedQueueSC with matplotlib visuals"
   ]
  },
  {
   "cell_type": "code",
   "execution_count": null,
   "metadata": {
    "hidden": true
   },
   "outputs": [],
   "source": [
    "import matplotlib\n",
    "import matplotlib.pyplot as plt\n",
    "%matplotlib qt5"
   ]
  },
  {
   "cell_type": "code",
   "execution_count": null,
   "metadata": {
    "hidden": true
   },
   "outputs": [],
   "source": [
    "%matplotlib"
   ]
  },
  {
   "cell_type": "code",
   "execution_count": null,
   "metadata": {
    "hidden": true
   },
   "outputs": [],
   "source": [
    "# load data\n",
    "data = np.loadtxt(\"data/iris.csv\", delimiter=',')"
   ]
  },
  {
   "cell_type": "code",
   "execution_count": null,
   "metadata": {
    "hidden": true
   },
   "outputs": [],
   "source": [
    "# create figure, axis, plots\n",
    "fig, ax = plt.subplots(1)  # create figure\n",
    "mngr = plt.get_current_fig_manager(); mngr.window.setGeometry(1200, 0, 500, 400)\n",
    "pldata, = ax.plot(data[:,1], data[:,2], \".\", ms=5) # create plots\n",
    "plmarked, = ax.plot([], [], \"ro\", ms=5, lw=0.5)\n",
    "# plt.show(block=False); plt.ion(); fig.canvas.draw() # not needed if plot shows\n",
    "\n",
    "# create the queue\n",
    "queue = scn.TimedQueueSC(sc)"
   ]
  },
  {
   "cell_type": "code",
   "execution_count": null,
   "metadata": {
    "hidden": true
   },
   "outputs": [],
   "source": [
    "def update_plot(x, y):\n",
    "    global fig, ax, pldata, plmarked\n",
    "    plmarked.set_data([x], [y])\n",
    "    ax.draw_artist(ax.patch)\n",
    "    ax.draw_artist(pldata)\n",
    "    ax.draw_artist(plmarked)\n",
    "    fig.canvas.update() # additional fig.canvas.flush_events() not needed?\n",
    "\n",
    "t0 = time.time()\n",
    "for i, r in enumerate(data):\n",
    "    onset = t0 + scn.linlin(r[1], 4, 8, 0.5, 4) + random.random()*0.2\n",
    "    freq = scn.midicps(scn.linlin(r[2], 2, 5, 60, 80))\n",
    "    pos = scn.linlin(r[4], 0, 2, -1, 1)\n",
    "    queue.put(onset-0.1, sc.bundle, (onset, \"/s_new\", [\n",
    "        \"s1\", -1, 1, 0, \"freq\", freq, \"amp\", 0.05, \"dur\", .52, \"pos\", pos]))\n",
    "    queue.put(onset-0.1, update_plot, (r[1], r[2]), spawn=False)\n",
    "print('time used:', time.time() - t0)"
   ]
  },
  {
   "cell_type": "markdown",
   "metadata": {
    "heading_collapsed": true
   },
   "source": [
    "## TimedQueueSC PMSon with matplotlib highlights"
   ]
  },
  {
   "cell_type": "code",
   "execution_count": null,
   "metadata": {
    "hidden": true
   },
   "outputs": [],
   "source": [
    "data = np.vstack((np.random.randn(1200, 7), np.random.randn(1200, 7)+5))"
   ]
  },
  {
   "cell_type": "code",
   "execution_count": null,
   "metadata": {
    "hidden": true
   },
   "outputs": [],
   "source": [
    "# create figure\n",
    "fig, ax = plt.subplots(1)  # create figure\n",
    "mngr = plt.get_current_fig_manager(); mngr.window.setGeometry(1200, 0, 500, 400)\n",
    "\n",
    "# create the queue\n",
    "queue = scn.TimedQueueSC(sc)"
   ]
  },
  {
   "cell_type": "code",
   "execution_count": null,
   "metadata": {
    "hidden": true
   },
   "outputs": [],
   "source": [
    "def mapcol(row, stats, col, val_from, val_to):  # helper for mapping\n",
    "    return scn.linlin(row[col], stats[col, 0], stats[col, 1], val_from, val_to)\n",
    "\n",
    "def select(i):  #  highlight selection\n",
    "    selected[i] = True\n",
    "\n",
    "def unselect(i):\n",
    "    selected[i] = False\n",
    "\n",
    "def update_plot(xs, ys): \n",
    "    global fig, ax, pldata, plmarked, selected\n",
    "    plmarked.set_data(xs[selected], ys[selected])\n",
    "    ax.draw_artist(ax.patch)\n",
    "    ax.draw_artist(pldata)\n",
    "    ax.draw_artist(plmarked)\n",
    "    fig.canvas.flush_events()\n",
    "    fig.canvas.update()\n",
    "\n",
    "# parameter mapping sonification with GUI\n",
    "tot_dur = 5  # total duration of the sonification\n",
    "max_ev_dur = 5.5  # maximal event duration\n",
    "delay = 1  # offset\n",
    "\n",
    "stats = np.vstack((np.min(data, 0), np.max(data, 0))).T\n",
    "selected = np.zeros(np.shape(data)[0], np.bool)\n",
    "\n",
    "# create axis, plots\n",
    "ax.clear()\n",
    "plmarked, = ax.plot([], [], \"ro\", ms=4, lw=0.5)\n",
    "pldata, = ax.plot(data[:,1], data[:,2], \".\", ms=2) # create plots\n",
    "\n",
    "t0 = time.time()\n",
    "\n",
    "for i, r in enumerate(data):\n",
    "    onset = t0 + delay + 5* i/800 # mapcol(r, stats, 3, 0, tot_dur)\n",
    "    freq  = scn.midicps( mapcol(r, stats, 2, 60, 90))\n",
    "    ev_dur = mapcol(r, stats, 4, 0.2, max_ev_dur)\n",
    "    # sonification\n",
    "    queue.put(onset-delay, sc.bundle, (onset, \"/s_new\", [\n",
    "        \"s1\", -1, 1, 0, \"freq\", freq, \"amp\", 0.05, \"dur\", ev_dur, \"pos\", pos]))\n",
    "    # on/off events of marker highlight\n",
    "    queue.put(onset, select, i)\n",
    "    queue.put(onset + ev_dur, unselect, i)\n",
    "\n",
    "# update plot at given rate from earliest to latext time\n",
    "for t in np.arange(t0, t0+delay+tot_dur+ev_dur+1, 1/10):  # 1 / update rate\n",
    "    queue.put(t, update_plot, (data[:,1], data[:,2]))"
   ]
  },
  {
   "cell_type": "markdown",
   "metadata": {
    "hidden": true
   },
   "source": [
    "**BUG: with large datasets, the plotting stops at some time - unclear why...**"
   ]
  },
  {
   "cell_type": "markdown",
   "metadata": {
    "heading_collapsed": true
   },
   "source": [
    "## TimedQueueSC PMSon with timeseries data and matplotlib"
   ]
  },
  {
   "cell_type": "code",
   "execution_count": null,
   "metadata": {
    "hidden": true
   },
   "outputs": [],
   "source": [
    "sc.bundle(0, \"/s_new\", [\"s2\", 1200, 1, 0, \"amp\", 0.04])\n",
    "sc.bundle(0.2, \"/n_set\", [1200, \"freq\", 200, \"num\", 1, \"amp\", 0.2, \"pan\", 0])\n",
    "sc.bundle(0.4, \"/n_free\", 1200)"
   ]
  },
  {
   "cell_type": "code",
   "execution_count": null,
   "metadata": {
    "hidden": true
   },
   "outputs": [],
   "source": [
    "ts = np.arange(0, 20, 0.01)\n",
    "data = np.vstack((ts, \n",
    "                  np.sin(2.5*ts) + 0.01*ts*np.random.randn(np.shape(ts)[0]), \n",
    "                  0.08*ts[::-1]*np.cos(3.5*ts)**2)).T"
   ]
  },
  {
   "cell_type": "code",
   "execution_count": null,
   "metadata": {
    "hidden": true
   },
   "outputs": [],
   "source": [
    "# create figure\n",
    "fig, ax = plt.subplots(1)  # create figure\n",
    "mngr = plt.get_current_fig_manager(); mngr.window.setGeometry(1200, 0, 500, 400)\n",
    "\n",
    "# create axis, plots\n",
    "ax.clear()\n",
    "plmarked, = ax.plot([], [], \"r-\", lw=1)\n",
    "pldata, = ax.plot(data[:,0], data[:,1], \"-\", ms=2) # create plots\n",
    "pldataR, = ax.plot(data[:,0], data[:,2], \"-\", ms=2) # create plots"
   ]
  },
  {
   "cell_type": "code",
   "execution_count": null,
   "metadata": {
    "hidden": true
   },
   "outputs": [],
   "source": [
    "# create the queue\n",
    "queue = scn.TimedQueueSC(sc)\n",
    "\n",
    "def mapcol(row, stats, col, val_from, val_to):  # helper for mapping\n",
    "    return scn.linlin(row[col], stats[col, 0], stats[col, 1], val_from, val_to)\n",
    "\n",
    "def update_plot(t): \n",
    "    global fig, ax, pldata, plmarked, selected\n",
    "    plmarked.set_data([t,t], [-10000, 10000])\n",
    "    ax.draw_artist(ax.patch)\n",
    "    ax.draw_artist(pldata)\n",
    "    ax.draw_artist(pldataR)\n",
    "    ax.draw_artist(plmarked)\n",
    "    fig.canvas.update()\n",
    "    # fig.canvas.flush_events()\n",
    "\n",
    "stats = np.vstack((np.min(data, 0), np.max(data, 0))).T\n",
    "selected = np.zeros(np.shape(data)[0], np.bool)\n",
    "\n",
    "# parameter mapping sonification with GUI\n",
    "delay = 0.5\n",
    "rate = 2\n",
    "\n",
    "t0 = time.time()\n",
    "queue.put(t0, sc.msg, (\"/s_new\", [\"s2\", 1200, 1, 0, \"amp\", 0]))\n",
    "queue.put(t0, sc.msg, (\"/s_new\", [\"s2\", 1201, 1, 0, \"amp\", 0]))\n",
    "\n",
    "max_onset = 0\n",
    "latest_gui_onset = 0\n",
    "\n",
    "ts = []\n",
    "for i, r in enumerate(data[::2, :]):\n",
    "    ts.append(time.time()-t0)\n",
    "    if i==0: tmin = r[0]\n",
    "    onset = (r[0]-tmin)/rate\n",
    "    freq   = scn.midicps( mapcol(r, stats, 1, 60, 70))\n",
    "    freqR  = 0.5 * scn.midicps( mapcol(r, stats, 2, 70, 80))\n",
    "\n",
    "    # sonification\n",
    "    tt = t0 + delay + onset\n",
    "    if tt > max_onset: max_onset = tt\n",
    "    queue.put(tt-0.1, sc.bundle, (tt, \"/n_set\", \n",
    "        [1200, \"freq\", freq, \"num\", 4, \"amp\", 0.2, \"pan\", -1, \"lg\", 0]))\n",
    "    queue.put(tt-0.1, sc.bundle, (tt, \"/n_set\", \n",
    "        [1201, \"freq\", freqR, \"num\", 1, \"amp\", 0.1, \"pan\", 1]))\n",
    "    if tt > latest_gui_onset + 0.05:  # not more than 20 Hz gui update\n",
    "        latest_gui_onset = tt\n",
    "        queue.put(tt-0.1, update_plot, (r[0],), spawn=False)\n",
    "queue.put(max_onset, sc.msg, (\"/n_free\", 1200))\n",
    "queue.put(max_onset, sc.msg, (\"/n_free\", 1201))\n",
    "              \n",
    "# queue.join()\n",
    "print(time.time()-t0)"
   ]
  },
  {
   "cell_type": "markdown",
   "metadata": {
    "heading_collapsed": true
   },
   "source": [
    "## TimedQueueSC with pythreejs"
   ]
  },
  {
   "cell_type": "code",
   "execution_count": null,
   "metadata": {
    "hidden": true
   },
   "outputs": [],
   "source": [
    "from pythreejs import *"
   ]
  },
  {
   "cell_type": "code",
   "execution_count": null,
   "metadata": {
    "code_folding": [
     0
    ],
    "hidden": true
   },
   "outputs": [],
   "source": [
    "# create data\n",
    "data = np.vstack((np.random.randn(100, 7), np.random.randn(100, 7)+5))"
   ]
  },
  {
   "cell_type": "code",
   "execution_count": null,
   "metadata": {
    "code_folding": [
     0
    ],
    "hidden": true
   },
   "outputs": [],
   "source": [
    "# create WebGL figure with data point cubes\n",
    "view_width = 800\n",
    "view_height = 300\n",
    "size = 10  # size of coordinate frame\n",
    "\n",
    "linesgeom = Geometry(vertices=[[0, 0, 0], [size, 0, 0], [0, 0, 0], [0, size, 0], \n",
    "                               [0, 0, 0], [0, 0, size]],\n",
    "         colors = ['red', 'red', 'green', 'green', 'black', 'black'])\n",
    "lines = Line(geometry=linesgeom, \n",
    "             material=LineBasicMaterial(linewidth=5, vertexColors='VertexColors'), \n",
    "             type='LinePieces')\n",
    "c = PerspectiveCamera(position=[2, 2, 15], up=[0, 1, 0], aspect=view_width / view_height,\n",
    "                      children=[DirectionalLight(color='#ffffff', position=[-13, 5, 6], intensity=0.5)])\n",
    "scene = Scene(children=[lines, c, AmbientLight(color='#808080')])\n",
    "renderer = Renderer(camera=c, scene=scene, width=view_width, height=view_height,\n",
    "                    controls=[OrbitControls(controlling=c)])\n",
    "geometry = BoxBufferGeometry(1, 1, 1)\n",
    "dpm = []\n",
    "for dp in data:\n",
    "    m = Mesh(geometry=geometry, material=MeshLambertMaterial(color='#000000'), \n",
    "             position=[dp[0], dp[1], dp[2]],\n",
    "             scale=(0.1,0.1,0.1))\n",
    "    dpm.append(m)\n",
    "    scene.add(m)\n",
    "display(renderer)\n",
    "# c.position = (-13, 4, 5.8)  # to update cam position later interactively"
   ]
  },
  {
   "cell_type": "code",
   "execution_count": null,
   "metadata": {
    "code_folding": [
     0
    ],
    "hidden": true
   },
   "outputs": [],
   "source": [
    "# sonification\n",
    "queue = scn.TimedQueueSC(sc)\n",
    "\n",
    "def mapcol(row, stats, col, val_from, val_to):  # helper for mapping\n",
    "    return scn.linlin(row[col], stats[col, 0], stats[col, 1], val_from, val_to)\n",
    "\n",
    "def select(i):  #  highlight selection\n",
    "    dpm[i].scale=(0.5,)*3\n",
    "    dpm[i].material.color='#ff0000'\n",
    "\n",
    "def unselect(i):\n",
    "    dpm[i].scale=(0.1,)*3\n",
    "    dpm[i].material.color='#00c0f0'\n",
    "\n",
    "# parameter mapping sonification with GUI\n",
    "tot_dur = 10  # total duration of the sonification\n",
    "max_ev_dur = 1.5  # maximal event duration\n",
    "delay = 1  # offset\n",
    "\n",
    "stats = np.vstack((np.min(data, 0), np.max(data, 0))).T\n",
    "selected = np.zeros(np.shape(data)[0], np.bool)\n",
    "\n",
    "t0 = time.time()\n",
    "for i, r in enumerate(data):\n",
    "    onset = t0 + delay + mapcol(r, stats, 3, 0, tot_dur)\n",
    "    freq  = scn.midicps( mapcol(r, stats, 2, 60, 90))\n",
    "    ev_dur = mapcol(r, stats, 4, 0.2, max_ev_dur)\n",
    "    # sonification\n",
    "    queue.put(onset-0.3, sc.bundle, (onset, \"/s_new\", [\n",
    "        \"s1\", -1, 1, 0, \"freq\", freq, \"amp\", 0.05, \"dur\", ev_dur, \"num\", 0, \"pos\", 0]))\n",
    "    # on/off events of marker highlight\n",
    "    queue.put(onset-0.1, select, i)\n",
    "    queue.put(onset + ev_dur, unselect, i)"
   ]
  },
  {
   "cell_type": "markdown",
   "metadata": {
    "heading_collapsed": true
   },
   "source": [
    "## TimedQueueSC with Bokeh plot update"
   ]
  },
  {
   "cell_type": "code",
   "execution_count": null,
   "metadata": {
    "hidden": true
   },
   "outputs": [],
   "source": [
    "import numpy as np\n",
    "from bokeh.io import output_notebook, push_notebook, show \n",
    "from bokeh.plotting import figure\n",
    "from bokeh.models import ColumnDataSource\n",
    "from bokeh.colors import RGB \n",
    "output_notebook()"
   ]
  },
  {
   "cell_type": "code",
   "execution_count": null,
   "metadata": {
    "code_folding": [],
    "hidden": true
   },
   "outputs": [],
   "source": [
    "# create data\n",
    "data = np.vstack((np.random.randn(100, 7), np.random.randn(100, 7)+5))\n",
    "\n",
    "# initialize plot\n",
    "source = ColumnDataSource(data=dict(x = [], y = []))\n",
    "plot = figure(plot_height=300, plot_width=300, tools=\"crosshair,pan,reset,save,wheel_zoom\",\n",
    "             x_range=[-5,10], y_range=[-5,10])\n",
    "data_plot = plot.circle(data[:,0], y = data[:,1], size=1)\n",
    "highlight_plot = plot.circle('x', 'y', source=source, size=5)\n",
    "h2 = show(plot, notebook_handle=True)"
   ]
  },
  {
   "cell_type": "code",
   "execution_count": null,
   "metadata": {
    "code_folding": [
     0
    ],
    "hidden": true
   },
   "outputs": [],
   "source": [
    "# sonification with sc3nb\n",
    "\n",
    "queue = scn.TimedQueueSC(sc)\n",
    "\n",
    "def mapcol(row, stats, col, val_from, val_to):  # helper for mapping\n",
    "    return scn.linlin(row[col], stats[col, 0], stats[col, 1], val_from, val_to)\n",
    "def select(i):  #  highlight selection\n",
    "    selected[i] = True\n",
    "def unselect(i):\n",
    "    selected[i] = False \n",
    "def update_plot(xs, ys): \n",
    "    global selected\n",
    "    x = xs[selected]\n",
    "    y = ys[selected]\n",
    "    source.data = dict(x=x, y=y)\n",
    "    push_notebook(h2)\n",
    "\n",
    "# parameter mapping sonification with GUI\n",
    "tot_dur = 6  # total duration of the sonification\n",
    "max_ev_dur = 4.1  # maximal event duration\n",
    "delay = 0.5 # offset\n",
    "pre_fetch = 0.2  # time for sc bundles to be queued earlier\n",
    "\n",
    "stats = np.vstack((np.min(data, 0), np.max(data, 0))).T\n",
    "selected = np.zeros(np.shape(data)[0], np.bool)\n",
    "t0 = time.time()\n",
    "for i in np.argsort(data[:,3]):\n",
    "    r = data[i]\n",
    "    onset = t0 + delay + mapcol(r, stats, 3, 0, tot_dur)\n",
    "    freq  = scn.midicps( mapcol(r, stats, 2, 60, 90))\n",
    "    ev_dur = mapcol(r, stats, 4, 0.2, max_ev_dur)\n",
    "    # sonification\n",
    "    queue.put(onset-pre_fetch, sc.bundle, (onset, \"/s_new\", [\n",
    "        \"s1\", -1, 1, 0, \"freq\", freq, \"amp\", 0.05, \"dur\", ev_dur, \"num\", 0, \"pos\", 0]))\n",
    "    # on/off events of marker highlight\n",
    "    queue.put(onset-0.1, select, i)\n",
    "    queue.put(onset-0.1+ev_dur, unselect, i)\n",
    "\n",
    "for t in t0+delay+np.arange(0, tot_dur+ev_dur+1, 1/25):  # 1 / update rate\n",
    "    queue.put(t, update_plot, (data[:,1], data[:,2]))\n",
    "print(time.time()-t0)"
   ]
  },
  {
   "cell_type": "markdown",
   "metadata": {
    "heading_collapsed": true
   },
   "source": [
    "## TimeSeriesSon with Bokeh plot"
   ]
  },
  {
   "cell_type": "code",
   "execution_count": null,
   "metadata": {
    "hidden": true
   },
   "outputs": [],
   "source": [
    "ts = np.arange(0, 20, 0.005)\n",
    "data = np.vstack((ts, \n",
    "                  np.sin(2.5*ts) + 0.01*ts*np.random.randn(np.shape(ts)[0]), \n",
    "                  0.08*ts[::-1]*np.cos(3.5*ts)**2)).T"
   ]
  },
  {
   "cell_type": "code",
   "execution_count": null,
   "metadata": {
    "hidden": true
   },
   "outputs": [],
   "source": [
    "plot = figure(plot_height=150, plot_width=600, tools=\"crosshair,pan,reset,save,wheel_zoom\",\n",
    "             x_range=[0,20], y_range=[-1,1])\n",
    "source = ColumnDataSource(data = dict(x=[], y=[]))\n",
    "data_plot1 = plot.line(data[:,0], y = data[:,1])\n",
    "data_plot2 = plot.line(data[:,0], y = data[:,2], color='green')\n",
    "marker_plot = plot.line('x', 'y', source=source, color='red')\n",
    "h2 = show(plot, notebook_handle=True)"
   ]
  },
  {
   "cell_type": "code",
   "execution_count": null,
   "metadata": {
    "code_folding": [],
    "hidden": true
   },
   "outputs": [],
   "source": [
    "# create the queue\n",
    "queue = scn.TimedQueueSC(sc)\n",
    "\n",
    "def mapcol(row, stats, col, val_from, val_to):  # helper for mapping\n",
    "    return scn.linlin(row[col], stats[col, 0], stats[col, 1], val_from, val_to)\n",
    "\n",
    "def update_plot(t): \n",
    "    global fig, ax, pldata, plmarked, selected\n",
    "    source.data = dict(x=[t,t], y=[-1,1])\n",
    "    push_notebook(h2)\n",
    "\n",
    "stats = np.vstack((np.min(data, 0), np.max(data, 0))).T\n",
    "selected = np.zeros(np.shape(data)[0], np.bool)\n",
    "\n",
    "# parameter mapping sonification with GUI\n",
    "delay = 0.5\n",
    "rate = 2\n",
    "\n",
    "t0 = time.time()\n",
    "queue.put(t0, sc.msg, (\"/s_new\", [\"s2\", 1200, 1, 0, \"amp\", 0]))\n",
    "queue.put(t0, sc.msg, (\"/s_new\", [\"s2\", 1201, 1, 0, \"amp\", 0]))\n",
    "\n",
    "max_onset = 0\n",
    "latest_gui_onset = 0\n",
    "\n",
    "ts = []\n",
    "for i, r in enumerate(data[::2, :]):\n",
    "    ts.append(time.time()-t0)\n",
    "    if i==0: tmin = r[0]\n",
    "    onset = (r[0]-tmin)/rate\n",
    "    freq   = scn.midicps( mapcol(r, stats, 1, 60, 70))\n",
    "    freqR  = scn.midicps( mapcol(r, stats, 2, 60, 70))\n",
    "    # sonification\n",
    "    tt = t0 + delay + onset\n",
    "    if tt > max_onset: max_onset = tt\n",
    "    queue.put(tt-0.1, sc.bundle, (tt, \"/n_set\", \n",
    "        [1200, \"freq\", freq, \"num\", 4, \"amp\", 0.2, \"pan\", -1, \"lg\", 0]))\n",
    "    queue.put(tt-0.1, sc.bundle, (tt, \"/n_set\", \n",
    "        [1201, \"freq\", freqR, \"num\", 1, \"amp\", 0.1, \"pan\", 1]))\n",
    "    if tt > latest_gui_onset + 0.02:  # not more than 20 Hz gui update\n",
    "        latest_gui_onset = tt\n",
    "        queue.put(tt-0.1, update_plot, (r[0],), spawn=False)\n",
    "queue.put(max_onset, sc.msg, (\"/n_free\", 1200))\n",
    "queue.put(max_onset, sc.msg, (\"/n_free\", 1201))\n",
    "              \n",
    "# queue.join()\n",
    "print(time.time()-t0)"
   ]
  },
  {
   "cell_type": "code",
   "execution_count": null,
   "metadata": {
    "hidden": true
   },
   "outputs": [],
   "source": []
  }
 ],
 "metadata": {
  "kernelspec": {
   "display_name": "Python 3",
   "language": "python",
   "name": "python3"
  },
  "language_info": {
   "codemirror_mode": {
    "name": "ipython",
    "version": 3
   },
   "file_extension": ".py",
   "mimetype": "text/x-python",
   "name": "python",
   "nbconvert_exporter": "python",
   "pygments_lexer": "ipython3",
   "version": "3.6.8"
  }
 },
 "nbformat": 4,
 "nbformat_minor": 2
}

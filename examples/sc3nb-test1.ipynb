{
 "cells": [
  {
   "cell_type": "markdown",
   "metadata": {},
   "source": [
    "## sc3nb test file"
   ]
  },
  {
   "cell_type": "code",
   "execution_count": 17,
   "metadata": {},
   "outputs": [],
   "source": [
    "import sc3nb as scn\n",
    "import time"
   ]
  },
  {
   "cell_type": "code",
   "execution_count": 4,
   "metadata": {},
   "outputs": [
    {
     "name": "stdout",
     "output_type": "stream",
     "text": [
      "Starting sclang...\n",
      "Done.\n",
      "Registering UDP callback...\n",
      "Done.\n",
      "Booting server...\n",
      "Done.\n",
      "sc3nb started\n"
     ]
    }
   ],
   "source": [
    "sc = scn.startup(sclangpath=\"/Applications/SuperCollider-3.9/SuperCollider.app/Contents/MacOS/sclang\")\n",
    "# add startup() first arg to be filename if sclang is elsewhere\n",
    "# sc = sc3nb.startup(\"/Applications/Supercollider/SuperCollider.app/Contents/MacOS/sclang\", discard_output=True, verbose=True)\n",
    "# two tones should play after approx 3-5s, if not, try again..."
   ]
  },
  {
   "cell_type": "code",
   "execution_count": 6,
   "metadata": {},
   "outputs": [],
   "source": [
    "# scope window should open\n",
    "%scv s.scope"
   ]
  },
  {
   "cell_type": "code",
   "execution_count": 7,
   "metadata": {},
   "outputs": [],
   "source": [
    "# tone should play, output should be \"-> Synth('default': ####)\" \n",
    "# shortcut CMD-. should stop it, if not use line below\n",
    "%scv Synth(\\default)"
   ]
  },
  {
   "cell_type": "code",
   "execution_count": 8,
   "metadata": {},
   "outputs": [],
   "source": [
    "%sc s.freeAll"
   ]
  },
  {
   "cell_type": "code",
   "execution_count": 10,
   "metadata": {},
   "outputs": [
    {
     "data": {
      "text/plain": [
       "206.0"
      ]
     },
     "execution_count": 10,
     "metadata": {},
     "output_type": "execute_result"
    }
   ],
   "source": [
    "# should give 206\n",
    "scn.linlin(3, 0, 10, 200, 220)"
   ]
  },
  {
   "cell_type": "code",
   "execution_count": 11,
   "metadata": {},
   "outputs": [
    {
     "name": "stdout",
     "output_type": "stream",
     "text": [
      "Help on function linlin in module sc3nb.helpers:\n",
      "\n",
      "linlin(x, smi, sma, dmi, dma)\n",
      "    TODO\n",
      "    \n",
      "    Arguments:\n",
      "        x {float} -- [description]\n",
      "        smi {float} -- [description]\n",
      "        sma {float} -- [description]\n",
      "        dmi {float} -- [description]\n",
      "        dma {float} -- [description]\n",
      "    \n",
      "    Returns:\n",
      "        float -- [description]\n",
      "\n"
     ]
    }
   ],
   "source": [
    "help(scn.linlin)"
   ]
  },
  {
   "cell_type": "code",
   "execution_count": 13,
   "metadata": {},
   "outputs": [],
   "source": [
    "%%scv\n",
    "SynthDef(\"s1\", { | out=0, freq=400, amp=0.5, gate=1|\n",
    "    Out.ar(out, SinOsc.ar(freq, mul: amp)*EnvGen.kr(Env.adsr(0,0,1,4), gate, doneAction: 2)!2)\n",
    "}).add()"
   ]
  },
  {
   "cell_type": "code",
   "execution_count": 14,
   "metadata": {},
   "outputs": [],
   "source": [
    "%sc x = Synth.new(\\s1)"
   ]
  },
  {
   "cell_type": "code",
   "execution_count": 15,
   "metadata": {},
   "outputs": [],
   "source": [
    "%sc x.release  // sound should fade out"
   ]
  },
  {
   "cell_type": "code",
   "execution_count": 18,
   "metadata": {},
   "outputs": [],
   "source": [
    "# sound should start 2s after code execution and stop 2s later\n",
    "now = time.time()\n",
    "sc.bundle(now+1, \"/s_new\", [\"s1\", 1100, 0, 0])\n",
    "sc.bundle(now+2, \"/n_set\", [1100, \"gate\", 0])"
   ]
  },
  {
   "cell_type": "code",
   "execution_count": 19,
   "metadata": {},
   "outputs": [],
   "source": [
    "# sc.exit()  # to close sc3, for some reason del(sc) does not work..."
   ]
  },
  {
   "cell_type": "markdown",
   "metadata": {},
   "source": [
    "## sc3 recording functions"
   ]
  },
  {
   "cell_type": "code",
   "execution_count": 20,
   "metadata": {},
   "outputs": [],
   "source": [
    "# either use absolute time\n",
    "sc.prepare_for_record(0, \"record.wav\", 9, 2, \"wav\", \"int16\")\n",
    "now = time.time()  # use 0 for relative time (less precise)\n",
    "sc.record(now)\n",
    "sc.bundle(now+0.1, \"/s_new\", [\"s1\", 1100, 0, 0])\n",
    "sc.bundle(now+0.2, \"/n_set\", [1100, \"freq\", 600])\n",
    "sc.bundle(now+0.3, \"/n_set\", [1100, \"gate\", 0])\n",
    "sc.stop_recording(now+4)  # to pause, in case you want to resume with record()"
   ]
  },
  {
   "cell_type": "markdown",
   "metadata": {},
   "source": [
    "## simpleaudio record and play functions"
   ]
  },
  {
   "cell_type": "code",
   "execution_count": 22,
   "metadata": {},
   "outputs": [],
   "source": [
    "sig = scn.record(2.5, 1, 44100, 1024)"
   ]
  },
  {
   "cell_type": "code",
   "execution_count": 23,
   "metadata": {},
   "outputs": [
    {
     "data": {
      "text/plain": [
       "<simpleaudio.shiny.PlayObject at 0x1124e4470>"
      ]
     },
     "execution_count": 23,
     "metadata": {},
     "output_type": "execute_result"
    }
   ],
   "source": [
    "scn.play(sig, 1, sr=44100)"
   ]
  },
  {
   "cell_type": "markdown",
   "metadata": {},
   "source": [
    "## guitar synth - simple"
   ]
  },
  {
   "cell_type": "code",
   "execution_count": 25,
   "metadata": {},
   "outputs": [],
   "source": [
    "%%scv\n",
    "SynthDef(\\guitar, { | freq=110, amp=0.5, dur=1.5| \n",
    "    var sig, env;\n",
    "    sig = DynKlang.ar(`[ [110, 220, 329], [-12.6, -28.6, -50.7].dbamp, nil], freq/110.0, 0);\n",
    "    env = EnvGen.kr(Env.perc(0.001, dur, 1, -4), amp, doneAction: 2);\n",
    "    Out.ar(0, (env*sig)!2);\n",
    "}).add()"
   ]
  },
  {
   "cell_type": "code",
   "execution_count": 29,
   "metadata": {},
   "outputs": [],
   "source": [
    "%%scv \n",
    "x = Synth.new(\\guitar, [\\freq, 110, \\dur, 6]);\n",
    "x.set(\\freq, 220)"
   ]
  },
  {
   "cell_type": "code",
   "execution_count": 28,
   "metadata": {},
   "outputs": [],
   "source": [
    "%%scv\n",
    "{(52+[0,2,4,7,9,7,4,2,0]).midicps.do{ |f| \n",
    "    x = Synth.new(\\guitar, [\\freq, 2*f, \\dur, 2.5]);\n",
    "    0.25.wait;\n",
    "}}.fork"
   ]
  }
 ],
 "metadata": {
  "kernelspec": {
   "display_name": "Python 3",
   "language": "python",
   "name": "python3"
  },
  "language_info": {
   "codemirror_mode": {
    "name": "ipython",
    "version": 3
   },
   "file_extension": ".py",
   "mimetype": "text/x-python",
   "name": "python",
   "nbconvert_exporter": "python",
   "pygments_lexer": "ipython3",
   "version": "3.6.8"
  }
 },
 "nbformat": 4,
 "nbformat_minor": 2
}
